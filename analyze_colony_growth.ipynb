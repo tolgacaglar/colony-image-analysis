{
 "cells": [
  {
   "cell_type": "markdown",
   "metadata": {},
   "source": [
    "# Analyze the growth of the colony in z and in radial direction"
   ]
  },
  {
   "cell_type": "code",
   "execution_count": 1,
   "metadata": {},
   "outputs": [],
   "source": [
    "#Dependencies\n",
    "%matplotlib notebook\n",
    "\n",
    "import numpy as np\n",
    "import pandas as pd\n",
    "import cv2\n",
    "import sys\n",
    "\n",
    "import colony_iomethods as cm\n",
    "import xml.etree.ElementTree as ET # for XML properties\n",
    "\n",
    "from matplotlib import pyplot as plt"
   ]
  },
  {
   "cell_type": "markdown",
   "metadata": {},
   "source": [
    "## File paths"
   ]
  },
  {
   "cell_type": "code",
   "execution_count": 2,
   "metadata": {},
   "outputs": [],
   "source": [
    "# Filename\n",
    "fname = \"3dTimeScan_17h_init_long\"\n",
    "tstrar = [\"t%02d\" % (tix) for tix in range(48)]\n",
    "\n",
    "# Working folder\n",
    "folder = \"C:/Users/Tolga/Dropbox/Raw Data/Colony Images - Confocal/02112020/\" + fname + \"/\"\n",
    "\n",
    "#Video folder and path\n",
    "vidfolder = \"Videos/\"\n",
    "\n",
    "# XML properties file\n",
    "xml_name = \"Metadata/EQ59_Single_Colony_TilesScan.lif_\" + fname + \"_Properties.xml\"\n",
    "xml_path = folder + xml_name"
   ]
  },
  {
   "cell_type": "markdown",
   "metadata": {},
   "source": [
    "### Important!! \n",
    "#### Each frame is scaled from a tilescan of 1024x1024 images, to a final 512x512 in the video.\n",
    "* Collect the tilescan positions and obtain the scalex and scaley\n",
    "\n",
    "* Scale xvoxel and yvoxel accordingly\n",
    "\n",
    "### Read XML properties"
   ]
  },
  {
   "cell_type": "code",
   "execution_count": 3,
   "metadata": {},
   "outputs": [
    {
     "name": "stdout",
     "output_type": "stream",
     "text": [
      "tilescan is set\n"
     ]
    }
   ],
   "source": [
    "tree = ET.parse(xml_path)    # xml tree of the current stage position\n",
    "root = tree.getroot()           # root of the xml tree\n",
    "\n",
    "image_xml = root[0]\n",
    "\n",
    "# Tilescan properties\n",
    "tilescan_desc = cm.collectTileScan(image_xml)\n",
    "# Number of tiles in x- and y- directions\n",
    "tile_xcnt = tilescan_desc[\"tile_xcnt\"]\n",
    "tile_ycnt = tilescan_desc[\"tile_ycnt\"]\n",
    "# Scale factors\n",
    "scalex = 1.0/tile_xcnt/2\n",
    "scaley = 1.0/tile_ycnt/2\n",
    "\n",
    "dim_desc = cm.collectImageDim(image_xml)\n",
    "xsz = dim_desc[\"xsz\"]\n",
    "ysz = dim_desc[\"ysz\"]\n",
    "zsz = dim_desc[\"zsz\"]\n",
    "tsz = dim_desc[\"tsz\"]\n",
    "xvoxel = dim_desc[\"xvoxel\"]/scalex\n",
    "yvoxel = dim_desc[\"yvoxel\"]/scaley\n",
    "zvoxel = dim_desc[\"zvoxel\"]\n",
    "xunit = dim_desc[\"xunit\"]\n",
    "yunit = dim_desc[\"yunit\"]\n",
    "zunit = dim_desc[\"zunit\"]"
   ]
  },
  {
   "cell_type": "markdown",
   "metadata": {},
   "source": [
    "## Radial growth\n",
    "\n",
    "### Interactive plot of the total intensity for each z stack"
   ]
  },
  {
   "cell_type": "code",
   "execution_count": null,
   "metadata": {},
   "outputs": [],
   "source": [
    "# Start with a single "
   ]
  }
 ],
 "metadata": {
  "kernelspec": {
   "display_name": "Python 3",
   "language": "python",
   "name": "python3"
  },
  "language_info": {
   "codemirror_mode": {
    "name": "ipython",
    "version": 3
   },
   "file_extension": ".py",
   "mimetype": "text/x-python",
   "name": "python",
   "nbconvert_exporter": "python",
   "pygments_lexer": "ipython3",
   "version": "3.7.4"
  }
 },
 "nbformat": 4,
 "nbformat_minor": 4
}
