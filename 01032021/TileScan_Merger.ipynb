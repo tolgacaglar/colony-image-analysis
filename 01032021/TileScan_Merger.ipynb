{
 "cells": [
  {
   "cell_type": "markdown",
   "metadata": {},
   "source": [
    "# Merging a tile-scanned image in confocal onto a larger tif file"
   ]
  },
  {
   "cell_type": "code",
   "execution_count": 1,
   "metadata": {},
   "outputs": [],
   "source": [
    "# Dependencies\n",
    "import xml.etree.ElementTree as ET\n",
    "import numpy as np\n",
    "import glob\n",
    "import cv2\n",
    "\n",
    "from matplotlib import pyplot as plt"
   ]
  },
  {
   "cell_type": "code",
   "execution_count": 20,
   "metadata": {},
   "outputs": [],
   "source": [
    "## Define a filename constructor for various identifiers\n",
    "\n",
    "def getFileName(fname, zix, zstr, tix, tstr, six, sstr):\n",
    "    fsplit_lst = fname.split(\"_\")   # split filename by '_'\n",
    "    # Rename the timepoint, z-scan and stagepos identifiers\n",
    "    if zix is not None:\n",
    "        fsplit_lst[zix] = zstr\n",
    "    if tix is not None:\n",
    "        fsplit_lst[tix] = tstr\n",
    "    if six is not None:\n",
    "        fsplit_lst[six] = sstr\n",
    "\n",
    "    # Construct the full file name\n",
    "    fname_ret = fsplit_lst[0]\n",
    "    for fsplit in fsplit_lst[1:]:\n",
    "        fname_ret += \"_\" + fsplit\n",
    "    \n",
    "    return fname_ret"
   ]
  },
  {
   "cell_type": "markdown",
   "metadata": {},
   "source": [
    "## Read image properties from XML file"
   ]
  },
  {
   "cell_type": "code",
   "execution_count": 3,
   "metadata": {},
   "outputs": [],
   "source": [
    "# Folder for the files\n",
    "folder = \"D:/Tolga/Colony Images/12112020/Single_Colony_3dScan/\"\n",
    "xml_fname = \"MetaData/EQ59_Single_Colony_TilesScan.lif_Single_Colony_3DScan_121120_915pm_Properties.xml\"\n",
    "\n",
    "xml_path = folder + xml_fname\n",
    "tree = ET.parse(xml_path)    # xml tree of the current stage position\n",
    "root = tree.getroot()           # root of the xml tree\n",
    "\n",
    "image = root[0]"
   ]
  },
  {
   "cell_type": "code",
   "execution_count": 4,
   "metadata": {},
   "outputs": [
    {
     "name": "stdout",
     "output_type": "stream",
     "text": [
      "tilescan is set\n"
     ]
    }
   ],
   "source": [
    "# TileScan images are saved in parameter s**.\n",
    "# Get the tilescan info\n",
    "tilescan_info = None\n",
    "for child in image:\n",
    "    if child.get(\"Name\") == \"TileScanInfo\":\n",
    "        print(\"tilescan is set\")\n",
    "        tilescan_info = child\n",
    "        break"
   ]
  },
  {
   "cell_type": "code",
   "execution_count": 5,
   "metadata": {},
   "outputs": [],
   "source": [
    "snum = len(tilescan_info)\n",
    "xix_lst, yix_lst = [],[]     # x,y indices for each tile\n",
    "xpos_lst, ypos_lst = [],[]    # x,y positions for each tile\n",
    "# Run through each tile to take position information\n",
    "for tile in tilescan_info:\n",
    "    xix_lst.append(int(tile.get(\"FieldX\")))\n",
    "    yix_lst.append(int(tile.get(\"FieldY\")))\n",
    "    xpos_lst.append(np.double(tile.get(\"PosX\")))\n",
    "    ypos_lst.append(np.double(tile.get(\"PosY\")))\n",
    "\n",
    "# unique x,y indices for each tile\n",
    "xix_unique_ar = np.unique(xix_lst)\n",
    "yix_unique_ar = np.unique(yix_lst)"
   ]
  },
  {
   "cell_type": "code",
   "execution_count": 6,
   "metadata": {},
   "outputs": [],
   "source": [
    "# Collect the image information for each\n",
    "image_description = None\n",
    "img_name = \"\"\n",
    "xsz = ysz = zsz = ssz = tsz = -1\n",
    "xvoxel = yvoxel = zvoxel = -1\n",
    "for child in image:\n",
    "    if child.tag == \"ImageDescription\":\n",
    "        image_description = child\n",
    "        for gchild in image_description:\n",
    "            if gchild.tag == \"Name\":    # Name of the image\n",
    "                img_name = gchild.text\n",
    "            elif gchild.tag == \"Dimensions\":     # x,y,z,stage,t dimensions\n",
    "                # Run through each deminson description\n",
    "                for ggchild in gchild:\n",
    "                    if ggchild.tag == \"DimensionDescription\":   # Check for tag\n",
    "                        if ggchild.get(\"DimID\") == \"X\":\n",
    "                            xsz = int(ggchild.get(\"NumberOfElements\"))\n",
    "                            xvoxel = np.double(ggchild.get(\"Voxel\"))\n",
    "                        elif ggchild.get(\"DimID\") == \"Y\":\n",
    "                            ysz = int(ggchild.get(\"NumberOfElements\"))\n",
    "                            yvoxel = np.double(ggchild.get(\"Voxel\"))\n",
    "                        elif ggchild.get(\"DimID\") == \"Z\":\n",
    "                            zsz = int(ggchild.get(\"NumberOfElements\"))\n",
    "                            zvoxel = np.double(ggchild.get(\"Voxel\"))\n",
    "                        elif ggchild.get(\"DimID\") == \"Stage\":\n",
    "                            ssz = int(ggchild.get(\"NumberOfElements\"))\n",
    "                            svoxel = np.double(ggchild.get(\"Voxel\"))\n",
    "                        elif ggchild.get(\"DimID\") == \"T\":\n",
    "                            tsz = int(ggchild.get(\"NumberOfElements\"))\n",
    "                            # Note: tvoxel is not used!!\n",
    "                            # Each image has its own timestamp data"
   ]
  },
  {
   "cell_type": "code",
   "execution_count": 10,
   "metadata": {
    "scrolled": true
   },
   "outputs": [
    {
     "name": "stdout",
     "output_type": "stream",
     "text": [
      "Did you check the tstr_ix, sstr_ix and zstr_ix??\n"
     ]
    },
    {
     "data": {
      "text/plain": [
       "'z000'"
      ]
     },
     "execution_count": 10,
     "metadata": {},
     "output_type": "execute_result"
    }
   ],
   "source": [
    "# Copy all .tif file into a list\n",
    "fname_list = glob.glob(folder+\"TileScan/*.tif\")\n",
    "# For each file, collect string identifierse for t,s and z\n",
    "tstr_st, sstr_st, zstr_st = set(),set(),set()\n",
    "tstr_ix = None     # timepoint identifier index\n",
    "sstr_ix = 11     # stagepos identifier index\n",
    "zstr_ix = 12    # z-scan identifier index\n",
    "\n",
    "print(\"Did you check the tstr_ix, sstr_ix and zstr_ix??\")\n",
    "fname_list[0].split(\"_\")[zstr_ix]"
   ]
  },
  {
   "cell_type": "code",
   "execution_count": 14,
   "metadata": {},
   "outputs": [],
   "source": [
    "for fname in fname_list:\n",
    "    fname_splt = fname.split(\"_\")\n",
    "    if tstr_ix is not None:\n",
    "        tstr_st.add(fname_splt[tstr_ix])\n",
    "    if sstr_ix is not None:\n",
    "        sstr_st.add(fname_splt[sstr_ix])\n",
    "    if zstr_ix is not None:\n",
    "        zstr_st.add(fname_splt[zstr_ix])\n",
    "    \n",
    "# Sort the string identifiers and save as an array\n",
    "tstr_ar = np.sort(list(tstr_st))\n",
    "sstr_ar = np.sort(list(sstr_st))\n",
    "zstr_ar = np.sort(list(zstr_st))"
   ]
  },
  {
   "cell_type": "code",
   "execution_count": 21,
   "metadata": {},
   "outputs": [
    {
     "name": "stdout",
     "output_type": "stream",
     "text": [
      "Image merged for zstr = z000\n",
      "Image merged for zstr = z001\n",
      "Image merged for zstr = z002\n",
      "Image merged for zstr = z003\n",
      "Image merged for zstr = z004\n",
      "Image merged for zstr = z005\n",
      "Image merged for zstr = z006\n",
      "Image merged for zstr = z007\n",
      "Image merged for zstr = z008\n",
      "Image merged for zstr = z009\n",
      "Image merged for zstr = z010\n",
      "Image merged for zstr = z011\n",
      "Image merged for zstr = z012\n",
      "Image merged for zstr = z013\n",
      "Image merged for zstr = z014\n",
      "Image merged for zstr = z015\n",
      "Image merged for zstr = z016\n",
      "Image merged for zstr = z017\n",
      "Image merged for zstr = z018\n",
      "Image merged for zstr = z019\n",
      "Image merged for zstr = z020\n",
      "Image merged for zstr = z021\n",
      "Image merged for zstr = z022\n",
      "Image merged for zstr = z023\n",
      "Image merged for zstr = z024\n",
      "Image merged for zstr = z025\n",
      "Image merged for zstr = z026\n",
      "Image merged for zstr = z027\n",
      "Image merged for zstr = z028\n",
      "Image merged for zstr = z029\n",
      "Image merged for zstr = z030\n",
      "Image merged for zstr = z031\n",
      "Image merged for zstr = z032\n",
      "Image merged for zstr = z033\n",
      "Image merged for zstr = z034\n",
      "Image merged for zstr = z035\n",
      "Image merged for zstr = z036\n",
      "Image merged for zstr = z037\n",
      "Image merged for zstr = z038\n",
      "Image merged for zstr = z039\n",
      "Image merged for zstr = z040\n",
      "Image merged for zstr = z041\n",
      "Image merged for zstr = z042\n",
      "Image merged for zstr = z043\n",
      "Image merged for zstr = z044\n",
      "Image merged for zstr = z045\n",
      "Image merged for zstr = z046\n",
      "Image merged for zstr = z047\n",
      "Image merged for zstr = z048\n",
      "Image merged for zstr = z049\n",
      "Image merged for zstr = z050\n",
      "Image merged for zstr = z051\n",
      "Image merged for zstr = z052\n",
      "Image merged for zstr = z053\n",
      "Image merged for zstr = z054\n",
      "Image merged for zstr = z055\n",
      "Image merged for zstr = z056\n",
      "Image merged for zstr = z057\n",
      "Image merged for zstr = z058\n",
      "Image merged for zstr = z059\n",
      "Image merged for zstr = z060\n",
      "Image merged for zstr = z061\n",
      "Image merged for zstr = z062\n",
      "Image merged for zstr = z063\n",
      "Image merged for zstr = z064\n",
      "Image merged for zstr = z065\n",
      "Image merged for zstr = z066\n",
      "Image merged for zstr = z067\n",
      "Image merged for zstr = z068\n",
      "Image merged for zstr = z069\n",
      "Image merged for zstr = z070\n",
      "Image merged for zstr = z071\n",
      "Image merged for zstr = z072\n",
      "Image merged for zstr = z073\n",
      "Image merged for zstr = z074\n",
      "Image merged for zstr = z075\n",
      "Image merged for zstr = z076\n",
      "Image merged for zstr = z077\n",
      "Image merged for zstr = z078\n",
      "Image merged for zstr = z079\n",
      "Image merged for zstr = z080\n",
      "Image merged for zstr = z081\n",
      "Image merged for zstr = z082\n",
      "Image merged for zstr = z083\n",
      "Image merged for zstr = z084\n",
      "Image merged for zstr = z085\n",
      "Image merged for zstr = z086\n",
      "Image merged for zstr = z087\n",
      "Image merged for zstr = z088\n",
      "Image merged for zstr = z089\n",
      "Image merged for zstr = z090\n",
      "Image merged for zstr = z091\n",
      "Image merged for zstr = z092\n",
      "Image merged for zstr = z093\n",
      "Image merged for zstr = z094\n",
      "Image merged for zstr = z095\n",
      "Image merged for zstr = z096\n",
      "Image merged for zstr = z097\n",
      "Image merged for zstr = z098\n",
      "Image merged for zstr = z099\n",
      "Image merged for zstr = z100\n"
     ]
    }
   ],
   "source": [
    "# Let's test merging a single timepoint for each z sections\n",
    "tstr = None\n",
    "\n",
    "fname_test = fname_list[0]\n",
    "img_test = cv2.imread(fname_test, cv2.IMREAD_GRAYSCALE)\n",
    "height, width = img_test.shape\n",
    "\n",
    "# For each z section\n",
    "for zstr in zstr_ar:\n",
    "    # File path to merge into\n",
    "    if tstr is not None:\n",
    "        fpath_merged = folder + \"Merged/\" + img_name + \"_\" + tstr + \"_\" + zstr + \".tif\"\n",
    "    else:\n",
    "        fpath_merged = folder + \"Merged/\" + img_name + \"_\" + zstr + \".tif\"\n",
    "    \n",
    "    # Create empty merged image\n",
    "    img_merged_bw = np.zeros((width*len(xix_unique_ar),height*len(yix_unique_ar)), dtype=img_test.dtype)\n",
    "\n",
    "    for six in range(len(sstr_ar)):    # Run over the stage positions -> single merged tif file\n",
    "        sstr = sstr_ar[six]\n",
    "        #Construct the filepath to merge\n",
    "        fpath = getFileName(fname_list[0], zstr_ix, zstr, tstr_ix, tstr, sstr_ix, sstr)\n",
    "        \n",
    "        img = cv2.imread(fpath, cv2.IMREAD_GRAYSCALE)\n",
    "        height,width = img.shape\n",
    "        \n",
    "        # x,y indices\n",
    "        xix = xix_lst[six]\n",
    "        yix = yix_lst[six]\n",
    "        # Image pixel positions\n",
    "        xixar = np.arange(0,width) + width*xix\n",
    "        yixar = np.arange(0,height) + height*yix\n",
    "        \n",
    "        img_merged_bw[(xix*width):((xix+1)*width), (yix*height):((yix+1)*height)] = img\n",
    "        \n",
    "    print(\"Image merged for zstr = %s\" % (zstr))\n",
    "    \n",
    "    # Write the merged image\n",
    "    cv2.imwrite(fpath_merged, img_merged_bw)"
   ]
  },
  {
   "cell_type": "code",
   "execution_count": null,
   "metadata": {},
   "outputs": [],
   "source": [
    "xix"
   ]
  },
  {
   "cell_type": "code",
   "execution_count": null,
   "metadata": {},
   "outputs": [],
   "source": [
    "len(xixar)"
   ]
  },
  {
   "cell_type": "code",
   "execution_count": null,
   "metadata": {},
   "outputs": [],
   "source": []
  }
 ],
 "metadata": {
  "kernelspec": {
   "display_name": "Python 3",
   "language": "python",
   "name": "python3"
  },
  "language_info": {
   "codemirror_mode": {
    "name": "ipython",
    "version": 3
   },
   "file_extension": ".py",
   "mimetype": "text/x-python",
   "name": "python",
   "nbconvert_exporter": "python",
   "pygments_lexer": "ipython3",
   "version": "3.8.5"
  }
 },
 "nbformat": 4,
 "nbformat_minor": 4
}
