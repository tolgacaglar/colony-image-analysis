{
 "cells": [
  {
   "cell_type": "code",
   "execution_count": null,
   "metadata": {},
   "outputs": [],
   "source": [
    "%matplotlib notebook\n",
    "\n",
    "# Dependencies\n",
    "\n",
    "import os\n",
    "import cv2\n",
    "import merging_functions as mf\n",
    "import numpy as np\n",
    "import tracker as tr\n",
    "import datetime\n",
    "\n",
    "from matplotlib import pyplot as plt"
   ]
  },
  {
   "cell_type": "code",
   "execution_count": null,
   "metadata": {},
   "outputs": [],
   "source": [
    "# Go through each merged file and collect the resized image in a numpy array\n",
    "def get_image_sequence(video_folder, exp_name, acq_name, t_str, zstr_ar, img_dims):\n",
    "    # Initialize the img numpy array\n",
    "    img_seq = np.zeros((img_dims[0], img_dims[1], len(zstr_ar)), np.uint8)\n",
    "    # Go over each z-stack image\n",
    "    video_path = os.path.join(video_folder, f\"{exp_name}_{acq_name}\", f\"{exp_name}_{acq_name}_{t_str}.avi\")\n",
    "    \n",
    "    # Video capture object\n",
    "    vidcap = cv2.VideoCapture(video_path)\n",
    "    for zix in range(len(zstr_ar)):\n",
    "        z_str = zstr_ar[zix]\n",
    "        # Collect the path of the merged files\n",
    "        success, frame = vidcap.read()\n",
    "        # Convert to grayscale\n",
    "        frame_gray = cv2.cvtColor(frame, cv2.COLOR_BGR2GRAY)\n",
    "        # Add to image sequence array\n",
    "        img_seq[:,:,zix] = frame_gray\n",
    "        \n",
    "    return img_seq"
   ]
  },
  {
   "cell_type": "code",
   "execution_count": null,
   "metadata": {},
   "outputs": [],
   "source": [
    "def collect_radial_data(roi_img, Rar_pxl):\n",
    "    height, width = roi_img.shape\n",
    "    centerx = np.int32(width/2)\n",
    "    centery = np.int32(height/2)\n",
    "    \n",
    "    central_sum = np.zeros_like(Rar_pxl, dtype=np.double)\n",
    "    for Rix in range(len(Rar_pxl)):\n",
    "        radius = Rar_pxl[Rix]\n",
    "        circle_img = np.zeros((height,width), np.uint8)\n",
    "        cv2.circle(circle_img,(centerx,centery), radius,1,thickness=-1)\n",
    "        masked_data = cv2.bitwise_and(roi_img, roi_img, mask=circle_img)\n",
    "\n",
    "        central_sum[Rix] = masked_data.sum()/circle_img.sum()/255.0\n",
    "        \n",
    "    return central_sum"
   ]
  },
  {
   "cell_type": "markdown",
   "metadata": {},
   "source": [
    "## Test for height and radius for several acq_name"
   ]
  },
  {
   "cell_type": "code",
   "execution_count": null,
   "metadata": {},
   "outputs": [],
   "source": [
    "exp_name = \"EQ59_Gly_03232021\"\n",
    "acq_name = \"TileScan_Tp1-9_xyzt\"\n",
    "inner = True\n",
    "img_dims = (512,512)\n",
    "\n",
    "exp_folder = os.path.join(\"D:\", \"Tolga\", \"Colony Images\", exp_name)\n",
    "metadata = mf.collect_metadata(exp_folder, exp_name, acq_name, inner)\n",
    "\n",
    "t_str = \"t8\"\n",
    "\n",
    "zsz = metadata[\"dimensions\"][\"Z\"][\"NumberOfElements\"]\n",
    "# Find the number of digits\n",
    "znum_digit = len(str(zsz))\n",
    "# zstr for file path\n",
    "zstr_holder = f\"z%0{znum_digit}d\"\n",
    "\n",
    "# calculate z_strar for each z_str value\n",
    "z_strar = np.zeros(zsz, dtype=\"<U6\")\n",
    "for zix in range(zsz):\n",
    "    z_strar[zix] = zstr_holder % zix\n",
    "\n",
    "\n",
    "video_folder = os.path.join(exp_folder, \"Videos_ROI_Unmarked\")\n",
    "\n",
    "img_seq = get_image_sequence(video_folder, exp_name, acq_name, t_str, z_strar, img_dims)"
   ]
  },
  {
   "cell_type": "code",
   "execution_count": null,
   "metadata": {},
   "outputs": [],
   "source": [
    "metadata"
   ]
  },
  {
   "cell_type": "markdown",
   "metadata": {},
   "source": [
    "## Calculate time and radius at the surface"
   ]
  },
  {
   "cell_type": "code",
   "execution_count": null,
   "metadata": {},
   "outputs": [],
   "source": [
    "exp_name = \"EQ59_Gly_03232021\"\n",
    "acq_name_ar = [\"TileScan_Tp1-9_xyzt\",\n",
    "               \"TileScan_Tp10-33_xyzt\"]#,\n",
    "               #\"TileScan_Tp34-57_xyzt\"]  # Does not have start_time identifier. Metadata file is corrupt\n",
    "inner = True\n",
    "img_dims = (512,512)\n",
    "plate_time_obj = datetime.datetime(2021, 3, 20, 23, 30)\n",
    "\n",
    "zsurf_ixar = []\n",
    "radius = []\n",
    "time = []\n",
    "dr = 1\n",
    "Rar_pxl = np.arange(1,img_dims[0]/2, dr, dtype=np.int32)\n",
    "\n",
    "for acq_name in acq_name_ar:\n",
    "    print(f\"Calculating for {acq_name}\")\n",
    "    exp_folder = os.path.join(\"D:\", \"Tolga\", \"Colony Images\", exp_name)\n",
    "    metadata = mf.collect_metadata(exp_folder, exp_name, acq_name, inner)\n",
    "    video_folder = os.path.join(exp_folder, \"Videos_ROI_Unmarked\")\n",
    "    \n",
    "    zsz = metadata[\"dimensions\"][\"Z\"][\"NumberOfElements\"]\n",
    "    # Find the number of digits\n",
    "    znum_digit = len(str(zsz))\n",
    "    # zstr for file path\n",
    "    zstr_holder = f\"z%0{znum_digit}d\"\n",
    "    \n",
    "    tsz = metadata[\"dimensions\"][\"T\"][\"NumberOfElements\"]\n",
    "    # Find the number of digits\n",
    "    tnum_digit = len(str(tsz))\n",
    "    # zstr for file path\n",
    "    tstr_holder = f\"t%0{tnum_digit}d\"\n",
    "\n",
    "    # calculate z_strar for each z_str value\n",
    "    z_strar = np.zeros(zsz, dtype=\"<U6\")\n",
    "    for zix in range(zsz):\n",
    "        z_strar[zix] = zstr_holder % zix\n",
    "    \n",
    "    # Choose surface z values and surface image\n",
    "#     zsurf_ixar = np.zeros(tsz, dtype=np.int)\n",
    "#     surf_imagear = np.zeros((img_dims[0], img_dims[1], tsz))\n",
    "    # Calculate initial time\n",
    "    start_time = metadata[\"start_time\"]\n",
    "    initial_time_h = (start_time - plate_time_obj).total_seconds() / 3600\n",
    "    \n",
    "    # Calculate dt\n",
    "    timedelta_str = metadata[\"dimensions\"][\"T\"][\"Length\"]\n",
    "    hour = int(timedelta_str.split(\"h\")[0])\n",
    "    minute = int(timedelta_str.split(\"h\")[1].split(\"m\")[0])\n",
    "    second = float(timedelta_str.split(\"h\")[1].split(\"m\")[1].split(\"s\")[0])\n",
    "    dt = (datetime.timedelta(hours = hour, minutes = minute, seconds=second)/tsz).total_seconds()/3600\n",
    "    for tix in range(tsz):\n",
    "        t_str = tstr_holder % tix\n",
    "        print(f\"At t={tix}/{tsz} (tstr={t_str})\", end=\"\\r\", flush=True)\n",
    "\n",
    "        img_seq = get_image_sequence(video_folder, exp_name, acq_name, t_str, z_strar, img_dims)\n",
    "        total_pxl = np.zeros(zsz)\n",
    "        for zix in range(zsz):\n",
    "            total_pxl[zix] = img_seq[:,:,zix].sum()\n",
    "        \n",
    "        zsurf_ix = np.argmax(total_pxl)\n",
    "        surf_image = img_seq[:,:,zsurf_ix]\n",
    "        \n",
    "        zsurf_ixar.append(zsurf_ix)\n",
    "        central_avg = collect_radial_data(surf_image, Rar_pxl)\n",
    "        ###################\n",
    "        # Calculate the colony radius for each timepoint\n",
    "        ###################\n",
    "        # Calculate the difference of central avg\n",
    "        diff_central_avg = np.diff(central_avg, prepend=0)\n",
    "        # Find the last point that is positive, and call it the radius\n",
    "        filterar = diff_central_avg > 0\n",
    "        brightness = central_avg[filterar][-1]\n",
    "        if brightness > 0.1:\n",
    "            radius.append(Rar_pxl[filterar][-1])\n",
    "        else:\n",
    "            radius.append(0)\n",
    "        \n",
    "        # Add time information\n",
    "        time.append(initial_time_h + dt*tix)"
   ]
  },
  {
   "cell_type": "code",
   "execution_count": null,
   "metadata": {},
   "outputs": [],
   "source": [
    "fig,ax = plt.subplots()\n",
    "ax.plot(time, radius, 'o')\n",
    "ax.set_xlim(0,50)\n",
    "ax.set_ylim(0,150)"
   ]
  },
  {
   "cell_type": "markdown",
   "metadata": {},
   "source": [
    "## Save data to a json file"
   ]
  },
  {
   "cell_type": "code",
   "execution_count": null,
   "metadata": {},
   "outputs": [],
   "source": [
    "import json\n",
    "\n",
    "# TODO\n",
    "#- Convert datetime to a readable datetime object for initial plate preparation\n",
    "#- Convert all the data to dictionary\n",
    "#- Save to a json file"
   ]
  },
  {
   "cell_type": "markdown",
   "metadata": {},
   "source": [
    "## Debugging for the current timepoint. For each z sections"
   ]
  },
  {
   "cell_type": "code",
   "execution_count": null,
   "metadata": {},
   "outputs": [],
   "source": [
    "height,width = img_seq[0].shape\n",
    "dr = 1\n",
    "Rar_pxl = np.arange(5,width/2, dr, dtype=np.int32)\n",
    "plt_seq = np.zeros((2,len(Rar_pxl), zsz))\n",
    "\n",
    "for zix in range(zsz):\n",
    "    roi_image = img_seq[:,:,zix]\n",
    "    blurred_image = cv2.GaussianBlur(roi_image, (15,15), 0).astype(np.uint8)\n",
    "#     blurred_image = roi_image\n",
    "    if zix%10 == 0:\n",
    "        print(f\"Calculating zix = {zix}/{zsz}\", end=\"\\r\", flush=True)\n",
    "    central_avg = collect_radial_data(blurred_image, Rar_pxl)\n",
    "    plt_seq[0,:,zix] = Rar_pxl\n",
    "    plt_seq[1,:,zix] = central_avg\n",
    "    \n",
    "fig_maxint_img, ax = plt.subplots(figsize=(4,4), dpi=200)\n",
    "tracker = tr.IndexTracker(ax, plt_seq, \"line\", \"-\", 70)\n",
    "#     ax.set_xlim(0,40)\n",
    "ax.set_ylim(0,1)\n",
    "ax.set_xlabel(\"Radius (pxl)\")\n",
    "ax.set_ylabel(\"Average pixel brightness\")\n",
    "fig_maxint_img.canvas.mpl_connect('scroll_event', tracker.onscroll)\n",
    "plt.show()"
   ]
  },
  {
   "cell_type": "code",
   "execution_count": null,
   "metadata": {},
   "outputs": [],
   "source": []
  }
 ],
 "metadata": {
  "kernelspec": {
   "display_name": "Python 3",
   "language": "python",
   "name": "python3"
  },
  "language_info": {
   "codemirror_mode": {
    "name": "ipython",
    "version": 3
   },
   "file_extension": ".py",
   "mimetype": "text/x-python",
   "name": "python",
   "nbconvert_exporter": "python",
   "pygments_lexer": "ipython3",
   "version": "3.8.5"
  }
 },
 "nbformat": 4,
 "nbformat_minor": 4
}
