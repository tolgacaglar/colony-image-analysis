{
 "cells": [
  {
   "cell_type": "markdown",
   "metadata": {},
   "source": [
    "# Feature selection\n",
    "-----\n",
    "- z-stack Movies were prepared from the merged tilescan images\n",
    "- We are now ready for feature extraction from the movies\n"
   ]
  },
  {
   "cell_type": "code",
   "execution_count": 1,
   "metadata": {},
   "outputs": [],
   "source": [
    "%matplotlib notebook\n",
    "\n",
    "# Dependencies\n",
    "\n",
    "import os\n",
    "import cv2\n",
    "import merging_functions as mf\n",
    "import numpy as np\n",
    "import tracker as tr\n",
    "\n",
    "from matplotlib import pyplot as plt"
   ]
  },
  {
   "cell_type": "code",
   "execution_count": 2,
   "metadata": {},
   "outputs": [],
   "source": [
    "# Go through each timepoint and each frame to collect the pixel and their locations that exceeds the threshold\n",
    "def get_image_sequence(video_folder, exp_name, acq_name, t_str):\n",
    "    # Run through a single timepoint\n",
    "    video_path = os.path.join(video_folder, f\"{exp_name}_{acq_name}_{t_str}.avi\")\n",
    "\n",
    "    # Video capture object\n",
    "    vidcap = cv2.VideoCapture(video_path)\n",
    "\n",
    "    # Frame properties\n",
    "    frame_count = int(vidcap.get(cv2.CAP_PROP_FRAME_COUNT))\n",
    "    frame_height = int(vidcap.get(cv2.CAP_PROP_FRAME_HEIGHT))\n",
    "    frame_width = int(vidcap.get(cv2.CAP_PROP_FRAME_WIDTH))\n",
    "\n",
    "    img_seq = np.zeros((frame_height, frame_width, frame_count), np.uint8)\n",
    "    for fix in range(frame_count):\n",
    "        # Read frmae\n",
    "        success,frame = vidcap.read()\n",
    "        # Convert to grayscale\n",
    "        frame_gray = cv2.cvtColor(frame, cv2.COLOR_BGR2GRAY)\n",
    "        img_seq[:,:,fix] = frame_gray\n",
    "        \n",
    "    return img_seq\n"
   ]
  },
  {
   "cell_type": "code",
   "execution_count": 3,
   "metadata": {},
   "outputs": [],
   "source": [
    "def collect_radial_data(roi_img, Rar_pxl):\n",
    "    height, width = roi_img.shape\n",
    "    centerx = np.int32(width/2)\n",
    "    centery = np.int32(height/2)\n",
    "    \n",
    "    central_sum = np.zeros_like(Rar_pxl, dtype=np.double)\n",
    "    for Rix in range(len(Rar_pxl)):\n",
    "        radius = Rar_pxl[Rix]\n",
    "        circle_img = np.zeros((height,width), np.uint8)\n",
    "        cv2.circle(circle_img,(centerx,centery), radius,1,thickness=-1)\n",
    "        masked_data = cv2.bitwise_and(roi_img, roi_img, mask=circle_img)\n",
    "\n",
    "        central_sum[Rix] = masked_data.sum()/circle_img.sum()/255.0\n",
    "        \n",
    "    return central_sum"
   ]
  },
  {
   "cell_type": "code",
   "execution_count": 4,
   "metadata": {},
   "outputs": [],
   "source": [
    "exp_name = \"EQ59_Glu_03142021\"\n",
    "acq_name = \"TileScan_24-48h_xyzt\"\n",
    "\n",
    "exp_folder = os.path.join(\"E:\", \"Tolga\", exp_name)\n",
    "video_folder = os.path.join(exp_folder, \"Videos_Marked\", f\"{exp_name}_{acq_name}\")\n",
    "\n",
    "\n",
    "metadata = mf.collect_metadata(exp_folder, exp_name, acq_name)"
   ]
  },
  {
   "cell_type": "markdown",
   "metadata": {},
   "source": [
    "## Locate the center and the ROI of the image"
   ]
  },
  {
   "cell_type": "code",
   "execution_count": 5,
   "metadata": {},
   "outputs": [
    {
     "ename": "NameError",
     "evalue": "name 'dr' is not defined",
     "output_type": "error",
     "traceback": [
      "\u001b[1;31m---------------------------------------------------------------------------\u001b[0m",
      "\u001b[1;31mNameError\u001b[0m                                 Traceback (most recent call last)",
      "\u001b[1;32m<ipython-input-5-552c63fe179a>\u001b[0m in \u001b[0;36m<module>\u001b[1;34m\u001b[0m\n\u001b[0;32m     20\u001b[0m \u001b[0mheight\u001b[0m\u001b[1;33m,\u001b[0m\u001b[0mwidth\u001b[0m \u001b[1;33m=\u001b[0m \u001b[0mroi_image\u001b[0m\u001b[1;33m.\u001b[0m\u001b[0mshape\u001b[0m\u001b[1;33m\u001b[0m\u001b[1;33m\u001b[0m\u001b[0m\n\u001b[0;32m     21\u001b[0m \u001b[0mimg_seq_maxz\u001b[0m \u001b[1;33m=\u001b[0m \u001b[0mnp\u001b[0m\u001b[1;33m.\u001b[0m\u001b[0mzeros\u001b[0m\u001b[1;33m(\u001b[0m\u001b[1;33m(\u001b[0m\u001b[0mheight\u001b[0m\u001b[1;33m,\u001b[0m \u001b[0mwidth\u001b[0m\u001b[1;33m,\u001b[0m \u001b[0mzsz\u001b[0m\u001b[1;33m)\u001b[0m\u001b[1;33m)\u001b[0m \u001b[1;31m# numpy 3d array image sequence to track max intensity images\u001b[0m\u001b[1;33m\u001b[0m\u001b[1;33m\u001b[0m\u001b[0m\n\u001b[1;32m---> 22\u001b[1;33m \u001b[0mRar_pxl\u001b[0m \u001b[1;33m=\u001b[0m \u001b[0mnp\u001b[0m\u001b[1;33m.\u001b[0m\u001b[0marange\u001b[0m\u001b[1;33m(\u001b[0m\u001b[1;36m5\u001b[0m\u001b[1;33m,\u001b[0m\u001b[0mwidth\u001b[0m\u001b[1;33m/\u001b[0m\u001b[1;36m2\u001b[0m\u001b[1;33m,\u001b[0m \u001b[0mdr\u001b[0m\u001b[1;33m,\u001b[0m \u001b[0mdtype\u001b[0m\u001b[1;33m=\u001b[0m\u001b[0mnp\u001b[0m\u001b[1;33m.\u001b[0m\u001b[0mint32\u001b[0m\u001b[1;33m)\u001b[0m\u001b[1;33m\u001b[0m\u001b[1;33m\u001b[0m\u001b[0m\n\u001b[0m\u001b[0;32m     23\u001b[0m \u001b[1;32mfor\u001b[0m \u001b[0mzix\u001b[0m \u001b[1;32min\u001b[0m \u001b[0mrange\u001b[0m\u001b[1;33m(\u001b[0m\u001b[0mzsz\u001b[0m\u001b[1;33m)\u001b[0m\u001b[1;33m:\u001b[0m\u001b[1;33m\u001b[0m\u001b[1;33m\u001b[0m\u001b[0m\n\u001b[0;32m     24\u001b[0m     \u001b[0mroi_image\u001b[0m \u001b[1;33m=\u001b[0m \u001b[0mimg_seq\u001b[0m\u001b[1;33m[\u001b[0m\u001b[1;33m:\u001b[0m\u001b[1;33m,\u001b[0m \u001b[1;33m:\u001b[0m\u001b[1;33m,\u001b[0m \u001b[0mzix\u001b[0m\u001b[1;33m]\u001b[0m\u001b[1;33m\u001b[0m\u001b[1;33m\u001b[0m\u001b[0m\n",
      "\u001b[1;31mNameError\u001b[0m: name 'dr' is not defined"
     ]
    }
   ],
   "source": [
    "frame_height = 512\n",
    "frame_width = 512\n",
    "\n",
    "dr = 1\n",
    "\n",
    "## 24-48h\n",
    "centerx = 248\n",
    "centery = 245\n",
    "radius = 150\n",
    "\n",
    "## 12-24h\n",
    "# centerx = 115\n",
    "# centery = 200\n",
    "# radius = 20\n",
    "t_str = \"t15\"\n",
    "\n",
    "zsz = metadata[\"dimensions\"][\"Z\"][\"NumberOfElements\"]\n",
    "\n",
    "zar = np.arange(0,zsz)\n",
    "img_seq = get_image_sequence(video_folder, exp_name, acq_name, t_str)\n",
    "roi_image = img_seq[:, :, 0]\n",
    "height,width = roi_image.shape\n",
    "img_seq_maxz = np.zeros((height, width, zsz)) # numpy 3d array image sequence to track max intensity images\n",
    "Rar_pxl = np.arange(5,width/2, dr, dtype=np.int32)\n",
    "for zix in range(zsz):\n",
    "    roi_image = img_seq[:, :, zix]\n",
    "    blurred_image = cv2.GaussianBlur(roi_image, (15,15), 0).astype(np.uint8)\n",
    "    cv2.circle(blurred_image, (centerx, centery), radius, (255,255,255), 1)\n",
    "    img_seq_maxz[:,:,zix] = blurred_image\n",
    "    \n",
    "# Plot the image sequence in a figure\n",
    "fig_maxint_img, ax = plt.subplots()\n",
    "tracker = tr.IndexTracker(ax, img_seq_maxz, \"image\", 150)#, args_dict)\n",
    "\n",
    "fig_maxint_img.canvas.mpl_connect('scroll_event', tracker.onscroll)\n",
    "plt.show()"
   ]
  },
  {
   "cell_type": "markdown",
   "metadata": {},
   "source": [
    "## Calculate central sum and test for each z value\n",
    "At the end, calculate the ROI from the center point +- radius*1.1 square."
   ]
  },
  {
   "cell_type": "code",
   "execution_count": null,
   "metadata": {},
   "outputs": [],
   "source": [
    "roix = np.array([centerx - radius, centerx + radius], dtype=np.int32)\n",
    "roiy = np.array([centery - radius, centery + radius], dtype=np.int32)\n",
    "\n",
    "roi_image = img_seq[roiy[0]:roiy[1], roix[0]:roix[1], 0]\n",
    "height,width = roi_image.shape\n",
    "img_seq_maxz = np.zeros((height, width, zsz)) # numpy 3d array image sequence to track max intensity images\n",
    "Rar_pxl = np.arange(5,width/2, dr, dtype=np.int32)\n",
    "plt_seq = np.zeros((2,len(Rar_pxl), zsz))\n",
    "for zix in range(zsz):\n",
    "    roi_image = img_seq[roiy[0]:roiy[1], roix[0]:roix[1], zix]\n",
    "    blurred_image = cv2.GaussianBlur(roi_image, (15,15), 0).astype(np.uint8)\n",
    "    # Use blurred_image for nice plots\n",
    "    if zix%10 == 0:\n",
    "        print(f\"Calculating zix = {zix}/{zsz}\", end=\"\\r\", flush=True)\n",
    "    img_seq_maxz[:, :, zix] = blurred_image\n",
    "\n",
    "    central_avg = collect_radial_data(blurred_image, Rar_pxl)\n",
    "    plt_seq[0,:,zix] = Rar_pxl.copy()\n",
    "    plt_seq[1,:,zix] = central_avg.copy()\n",
    "    \n",
    "fig_maxint_img, ax = plt.subplots(figsize=(4,4), dpi=200)\n",
    "tracker = tr.IndexTracker(ax, plt_seq, \"line\", 70)\n",
    "#     ax.set_xlim(0,40)\n",
    "ax.set_ylim(0,1)\n",
    "ax.set_xlabel(\"Radius (pxl)\")\n",
    "ax.set_ylabel(\"Average pixel brightness\")\n",
    "fig_maxint_img.canvas.mpl_connect('scroll_event', tracker.onscroll)\n",
    "plt.show()"
   ]
  },
  {
   "cell_type": "markdown",
   "metadata": {},
   "source": [
    "### Collect the rmax(z) and cvmax(z)."
   ]
  },
  {
   "cell_type": "code",
   "execution_count": null,
   "metadata": {},
   "outputs": [],
   "source": [
    "def window(size):\n",
    "    return np.ones(size)/float(size)\n",
    "\n",
    "window_average = 5\n",
    "\n",
    "# Check the central sum for height measurement\n",
    "\n",
    "# Choose above 0.1 central average (10% filled)\n",
    "rmax = np.zeros(zsz)\n",
    "cmax = np.zeros(zsz)\n",
    "for zix in range(zsz):\n",
    "    rad = plt_seq[0,:,zix]\n",
    "    cav = plt_seq[1,:,zix]\n",
    "    \n",
    "    cavmax = np.max(cav)   # maximum value of the central average\n",
    "    cavmaxarg = np.argmax(cav)  # index of the maximum central average value\n",
    "    \n",
    "    rmax[zix] = rad[cavmaxarg]\n",
    "    cmax[zix] = cavmax\n",
    "    \n",
    "    \n",
    "fig,ax = plt.subplots(figsize=(4,4), dpi=200)\n",
    "ax.plot(zar, np.convolve(rmax, window(window_average), 'same'))\n",
    "# ax.plot(zar, rmax)"
   ]
  },
  {
   "cell_type": "code",
   "execution_count": null,
   "metadata": {},
   "outputs": [],
   "source": []
  },
  {
   "cell_type": "code",
   "execution_count": null,
   "metadata": {},
   "outputs": [],
   "source": []
  }
 ],
 "metadata": {
  "kernelspec": {
   "display_name": "Python 3",
   "language": "python",
   "name": "python3"
  },
  "language_info": {
   "codemirror_mode": {
    "name": "ipython",
    "version": 3
   },
   "file_extension": ".py",
   "mimetype": "text/x-python",
   "name": "python",
   "nbconvert_exporter": "python",
   "pygments_lexer": "ipython3",
   "version": "3.8.5"
  }
 },
 "nbformat": 4,
 "nbformat_minor": 4
}
