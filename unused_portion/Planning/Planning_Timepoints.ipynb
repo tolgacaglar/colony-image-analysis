{
 "cells": [
  {
   "cell_type": "code",
   "execution_count": null,
   "metadata": {},
   "outputs": [],
   "source": [
    "%matplotlib notebook\n",
    "\n",
    "import pandas as pd\n",
    "import numpy as np\n",
    "\n",
    "from matplotlib import pyplot as plt\n",
    "# from datetime import datetime"
   ]
  },
  {
   "cell_type": "code",
   "execution_count": null,
   "metadata": {},
   "outputs": [],
   "source": [
    "# Create plate class for keeping track of each plate\n",
    "class Plate:\n",
    "    def __init__(self, name, dt):\n",
    "        self.name = name\n",
    "        self.dt = dt\n",
    "    def timepoint(self, tp):\n",
    "        return tp-self.dt\n",
    "\n",
    "# Create a timepoint class that keeps track of which plate was taken\n",
    "class Timepoint:\n",
    "    def __init__(self, name, dt, plate):\n",
    "        self.name = name\n",
    "        self.dt = dt\n",
    "        self.plate = plate\n",
    "    def recorded_timepoint(self):\n",
    "        tp = self.plate.timepoint(self.dt)\n",
    "        return tp.days*24 + tp.seconds/3600"
   ]
  },
  {
   "cell_type": "code",
   "execution_count": null,
   "metadata": {},
   "outputs": [],
   "source": [
    "def load_files():\n",
    "    plate_path = \"plates.csv\"\n",
    "    timepoint_path = \"timepoints.csv\"\n",
    "    plate_df = pd.read_csv(plate_path)\n",
    "    timepoint_df = pd.read_csv(timepoint_path)\n",
    "    \n",
    "    # Redefine the timepoint to a datetime object\n",
    "    plate_df[\"Timepoint\"] = pd.to_datetime(plate_df[\"Timepoint\"])\n",
    "    timepoint_df[\"Timepoint\"] = pd.to_datetime(timepoint_df[\"Timepoint\"])\n",
    "    \n",
    "    return (plate_df, timepoint_df)"
   ]
  },
  {
   "cell_type": "code",
   "execution_count": null,
   "metadata": {},
   "outputs": [],
   "source": [
    "def calculate_timepoints(plate_df, timepoint_df):\n",
    "    plate_ar = np.empty(len(plate_df), dtype=Plate)\n",
    "    for pix in range(len(plate_df)):\n",
    "        plate = plate_df.iloc[pix]\n",
    "        plate_ar[pix] = Plate(plate[\"plate_name\"], plate[\"Timepoint\"])\n",
    "        \n",
    "    timepoint_ar = np.empty(len(timepoint_df), dtype=Timepoint)\n",
    "    for tix in range(len(timepoint_df)):\n",
    "        tp = timepoint_df.iloc[tix]\n",
    "        # Find the idx of the plate from the plate_id\n",
    "        plate_name = plate_df[plate_df[\"plate_id\"] == tp[\"plate_id\"]][\"plate_name\"].values[0]\n",
    "        for plate in plate_ar:\n",
    "            if plate.name == plate_name:\n",
    "                timepoint_ar[tix] = Timepoint(tp[\"Timepoint_name\"], tp[\"Timepoint\"], plate)\n",
    "                break\n",
    "                \n",
    "    recorded_timepoints_ar = np.zeros_like(timepoint_ar, dtype=np.double)\n",
    "    for rix in range(len(recorded_timepoints_ar)):\n",
    "        recorded_timepoints_ar[rix] = timepoint_ar[rix].recorded_timepoint()\n",
    "            \n",
    "    records_df = pd.DataFrame({\"plate_id\": timepoint_df[\"plate_id\"],\n",
    "                               \"time\": recorded_timepoints_ar,\n",
    "                               \"comment\": timepoint_df[\"Comment\"]})   \n",
    "    return records_df"
   ]
  },
  {
   "cell_type": "code",
   "execution_count": null,
   "metadata": {},
   "outputs": [],
   "source": [
    "plate_df, timepoint_df = load_files()\n",
    "plate_df = plate_df.dropna()\n",
    "timepoint_df = timepoint_df.dropna()\n",
    "records_df = calculate_timepoints(plate_df, timepoint_df)\n",
    "records_df = records_df.sort_values(by=\"time\")"
   ]
  },
  {
   "cell_type": "code",
   "execution_count": null,
   "metadata": {},
   "outputs": [],
   "source": [
    "# Define different color and shapes for checking all the calculated times for each timepoint\n",
    "colors = \"rgbcmyk\"\n",
    "filled_markers = \"ov<sp*dP\"\n",
    "marker_type_all = []\n",
    "for color in colors:\n",
    "    for marker in filled_markers:\n",
    "        marker_type_all.append(color + marker)\n",
    "        \n",
    "marker_type_all = np.array(marker_type_all)\n",
    "np.random.shuffle(marker_type_all)"
   ]
  },
  {
   "cell_type": "code",
   "execution_count": null,
   "metadata": {},
   "outputs": [],
   "source": [
    "unique_comments = timepoint_df[\"Comment\"].unique()\n",
    "fig, ax = plt.subplots()\n",
    "\n",
    "for cix in range(len(unique_comments)):\n",
    "    tpar = records_df[records_df[\"comment\"] == unique_comments[cix]]\n",
    "    ax.plot(tpar[\"time\"], marker_type_all[cix])\n",
    "\n",
    "\n"
   ]
  }
 ],
 "metadata": {
  "kernelspec": {
   "display_name": "Python 3",
   "language": "python",
   "name": "python3"
  },
  "language_info": {
   "codemirror_mode": {
    "name": "ipython",
    "version": 3
   },
   "file_extension": ".py",
   "mimetype": "text/x-python",
   "name": "python",
   "nbconvert_exporter": "python",
   "pygments_lexer": "ipython3",
   "version": "3.8.5"
  }
 },
 "nbformat": 4,
 "nbformat_minor": 4
}
