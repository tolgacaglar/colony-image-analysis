{
 "cells": [
  {
   "cell_type": "markdown",
   "metadata": {},
   "source": [
    "## Box filtering the raw tif images in a (15x15) box.\n",
    "### Steps:\n",
    "1. Read metadata for the given experiment and acquire\n",
    "2. [skip for now] For each file, collect all the unique pixel values (apparently, the number of unique pixels is below 10 for at least one of the experiments)\n",
    "3. [skip for now] Manually check the distribution of the unique pixel counts, and find a threshold value for the box filter. [Use threshold=79. Can transform this step to an ML algorithm for feature-finding]\n",
    "4. Box filter all the merged images, and write them into the boxfiltered/ folder."
   ]
  },
  {
   "cell_type": "code",
   "execution_count": null,
   "metadata": {},
   "outputs": [],
   "source": [
    "# Dependencies\n",
    "%matplotlib notebook\n",
    "\n",
    "import xml.etree.ElementTree as ET\n",
    "import numpy as np\n",
    "import glob\n",
    "import cv2\n",
    "import sys\n",
    "import time\n",
    "\n",
    "import colony_iomethods as cm\n",
    "\n",
    "from matplotlib import pyplot as plt"
   ]
  },
  {
   "cell_type": "markdown",
   "metadata": {},
   "source": [
    "## File-system organization\n",
    "- exp_name: The name of the experiment as defined in the microscope computer\n",
    "- acq_name: Name of the acquire (Typically comes in either an xyz [tilescan + z-stack] OR xyzt [xyz + timepoints])\n",
    "- base_folder [test_base_folder before publishing]: Currently uses the D: external hardrive at home computer.\n",
    "- Eventually, will need to distinguish different types of acquisition, such as xyz, xyzt and z-stacks. *[metadata must have this information]*"
   ]
  },
  {
   "cell_type": "code",
   "execution_count": null,
   "metadata": {},
   "outputs": [],
   "source": [
    "# Folder for the files\n",
    "exp_name = \"EQ59_Single_Colony_TilesScan.lif\"\n",
    "# acq_name = \"3dTimeScan_17h_init_long\"\n",
    "acq_name = \"3dTimeScan_12h_init\"\n",
    "\n",
    "base_folder = f\"D:/Tolga/Colony Images/{exp_name}/{acq_name}/\"\n",
    "\n",
    "# Replace the metadata_path with\n",
    "metadata_path = base_folder + f\"MetaData/{exp_name}_{acq_name}_Properties.xml\"\n",
    "\n",
    "tree = ET.parse(metadata_path)    # xml tree of the current stage position\n",
    "root = tree.getroot()           # root of the xml tree\n",
    "\n",
    "image_xml = root[0]\n",
    "\n",
    "# Merged images folder\n",
    "merged_folder = base_folder + \"Merged/\"\n",
    "# Boxfiltered images folder\n",
    "boxfiltered_folder = base_folder + \"Boxfiltered/\""
   ]
  },
  {
   "cell_type": "markdown",
   "metadata": {},
   "source": [
    "### Test file for obtaining the image dimensions for each tif file\n",
    "- For each acquisition, the size of the merged tif file should be the same. \n",
    "- Must check the {t_str} and {z_str} and {ch_str} before proceed."
   ]
  },
  {
   "cell_type": "code",
   "execution_count": null,
   "metadata": {},
   "outputs": [],
   "source": [
    "merged_path = merged_folder + f\"{acq_name}_t0_z000.tif\"\n",
    "# Image dimension description\n",
    "dim_desc = cm.collectImageDim(image_xml)\n",
    "\n",
    "img_test = cv2.imread(merged_path)\n",
    "(height, width, layers) = img_test.shape\n",
    "\n",
    "print(\"Image shape: (h%d,w%d,l%d)\" % (height, width, layers))"
   ]
  },
  {
   "cell_type": "markdown",
   "metadata": {},
   "source": [
    "### Box filter threshold (feature identification):\n",
    "- At the moment, let's use the threshold pixel value at threshold=80. The value comes from the code at the end of the downsampling notebook\n",
    "- In the future, this can be reorganized to use an ML algorithm for finding this threshold."
   ]
  },
  {
   "cell_type": "code",
   "execution_count": null,
   "metadata": {},
   "outputs": [],
   "source": [
    "boxfilter_threshold = 80\n",
    "# Size of the box\n",
    "box_size = (15, 15)"
   ]
  },
  {
   "cell_type": "markdown",
   "metadata": {},
   "source": [
    "## Box filter and write new image to a file\n",
    "- Depending on the acquisition, xyz, xyzt or z-stack, all of the merged files will be box filtered based on the boxfilter-treshold and written inside the Boxfiltered/ folder\n",
    "\n",
    "**[Unfinished] Implement a function for each of the acquisition type**"
   ]
  },
  {
   "cell_type": "code",
   "execution_count": null,
   "metadata": {},
   "outputs": [],
   "source": [
    "# For a set number of t\n",
    "# dim_desc[\"tsz\"] = 1\n",
    "# For a set number of z\n",
    "# dim_desc[\"zsz\"] = 1\n",
    "for tix in range(dim_desc[\"tsz\"]):\n",
    "    t_str = \"t%d\" % (tix)\n",
    "    img_zsum = np.zeros(dim_desc[\"zsz\"])\n",
    "    for zix in range(dim_desc[\"zsz\"]):\n",
    "        z_str = \"z%03d\" % (zix)\n",
    "        merged_path = merged_folder + f\"{acq_name}_{t_str}_{z_str}.tif\"\n",
    "        boxfiltered_path = boxfiltered_folder + f\"{acq_name}_{t_str}_{z_str}.tif\"\n",
    "        print(f\"Loading file = {merged_path}\", end=\"\\r\", flush=True)\n",
    "        \n",
    "        img = cv2.imread(merged_path)\n",
    "        \n",
    "        # Wait for the merge to complete\n",
    "        while (type(img) == type(None)):\n",
    "            time.sleep(1) # wait 1 sec and retry\n",
    "            img = cv2.imread(merged_path)\n",
    "            \n",
    "        # Threshold based on the boxfilter_threshold (max set to 1)\n",
    "        _, thresh = cv2.threshold(img, boxfilter_threshold, 1, cv2.THRESH_BINARY)\n",
    "        # Boxfilter, accumulate the kernel sized box, and write to the center\n",
    "        filtered = cv2.boxFilter(thresh, -1, box_size, normalize=False)\n",
    "\n",
    "        cv2.imwrite(boxfiltered_path, filtered)"
   ]
  },
  {
   "cell_type": "code",
   "execution_count": null,
   "metadata": {},
   "outputs": [],
   "source": []
  }
 ],
 "metadata": {
  "kernelspec": {
   "display_name": "Python 3",
   "language": "python",
   "name": "python3"
  },
  "language_info": {
   "codemirror_mode": {
    "name": "ipython",
    "version": 3
   },
   "file_extension": ".py",
   "mimetype": "text/x-python",
   "name": "python",
   "nbconvert_exporter": "python",
   "pygments_lexer": "ipython3",
   "version": "3.8.5"
  }
 },
 "nbformat": 4,
 "nbformat_minor": 4
}
