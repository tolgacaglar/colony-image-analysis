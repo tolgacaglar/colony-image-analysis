{
 "cells": [
  {
   "cell_type": "code",
   "execution_count": 1,
   "metadata": {},
   "outputs": [],
   "source": [
    "from src import merging_functions as mf\n",
    "\n",
    "import os"
   ]
  },
  {
   "cell_type": "code",
   "execution_count": 2,
   "metadata": {},
   "outputs": [],
   "source": [
    "exp_name = \"EQ59_Gly_02022021\"\n",
    "acq_name = \"TileScan_Tp30-38\"\n",
    "\n",
    "exp_folder = f\"D:/Tolga/Colony Images/{exp_name}/\"\n",
    "base_folder = os.path.join(exp_folder, f\"{exp_name}_{acq_name}\")\n",
    "# metadata_folder = base_folder + \"MetaData/\"\n",
    "\n",
    "# xml_path = metadata_folder + f\"{exp_name}_{acq_name}_Properties.xml\"\n",
    "\n",
    "metadata = mf.collect_metadata(base_folder, exp_name, acq_name)"
   ]
  },
  {
   "cell_type": "code",
   "execution_count": 3,
   "metadata": {},
   "outputs": [
    {
     "data": {
      "text/plain": [
       "{'dimensions': {'X': {'Length': 930.0,\n",
       "   'NumberOfElements': 1024,\n",
       "   'Unit': 'um',\n",
       "   'Voxel': 0.909},\n",
       "  'Y': {'Length': 930.0,\n",
       "   'NumberOfElements': 1024,\n",
       "   'Unit': 'um',\n",
       "   'Voxel': 0.909},\n",
       "  'Z': {'Length': -1000.0,\n",
       "   'NumberOfElements': 235,\n",
       "   'Unit': 'um',\n",
       "   'Voxel': -4.0},\n",
       "  'Stage': {'Length': '0.00',\n",
       "   'NumberOfElements': 25,\n",
       "   'Unit': '',\n",
       "   'Voxel': None},\n",
       "  'T': {'Length': '8h00m1.090s',\n",
       "   'NumberOfElements': 9,\n",
       "   'Unit': '',\n",
       "   'Voxel': '0 s'}},\n",
       " 'tiles': {'xix_lst': array([0, 0, 0, 0, 0, 1, 1, 1, 1, 1, 2, 2, 2, 2, 2, 3, 3, 3, 3, 3, 4, 4,\n",
       "         4, 4, 4]),\n",
       "  'yix_lst': array([0, 1, 2, 3, 4, 0, 1, 2, 3, 4, 0, 1, 2, 3, 4, 0, 1, 2, 3, 4, 0, 1,\n",
       "         2, 3, 4]),\n",
       "  'xix_unique_ar': array([0, 1, 2, 3, 4]),\n",
       "  'yix_unique_ar': array([0, 1, 2, 3, 4]),\n",
       "  'xpos_lst': array([0.08914652, 0.08914652, 0.08914652, 0.08914652, 0.08914652,\n",
       "         0.08992325, 0.08992325, 0.08992325, 0.08992325, 0.08992325,\n",
       "         0.09069998, 0.09069998, 0.09069998, 0.09069998, 0.09069998,\n",
       "         0.09147671, 0.09147671, 0.09147671, 0.09147671, 0.09147671,\n",
       "         0.09225344, 0.09225344, 0.09225344, 0.09225344, 0.09225344]),\n",
       "  'ypos_lst': array([0.05544658, 0.05622331, 0.05700004, 0.05777677, 0.0585535 ,\n",
       "         0.05544658, 0.05622331, 0.05700004, 0.05777677, 0.0585535 ,\n",
       "         0.05544658, 0.05622331, 0.05700004, 0.05777677, 0.0585535 ,\n",
       "         0.05544658, 0.05622331, 0.05700004, 0.05777677, 0.0585535 ,\n",
       "         0.05544658, 0.05622331, 0.05700004, 0.05777677, 0.0585535 ]),\n",
       "  'tile_xcnt': 5,\n",
       "  'tile_ycnt': 5},\n",
       " 'base_folder': 'D:/Tolga/Colony Images/EQ59_Gly_02022021/EQ59_Gly_02022021_TileScan_Tp30-38',\n",
       " 'exp_name': 'EQ59_Gly_02022021',\n",
       " 'acq_name': 'TileScan_Tp30-38',\n",
       " 'xml_path': 'D:/Tolga/Colony Images/EQ59_Gly_02022021/EQ59_Gly_02022021_TileScan_Tp30-38\\\\MetaData\\\\EQ59_Gly_02022021_TileScan_Tp30-38_Properties.xml'}"
      ]
     },
     "execution_count": 3,
     "metadata": {},
     "output_type": "execute_result"
    }
   ],
   "source": [
    "metadata"
   ]
  },
  {
   "cell_type": "code",
   "execution_count": 4,
   "metadata": {},
   "outputs": [
    {
     "name": "stdout",
     "output_type": "stream",
     "text": [
      "Image merged for zstr = z000 (0/235), tstr = t0 (0/9)\r"
     ]
    },
    {
     "ename": "ValueError",
     "evalue": "could not broadcast input array from shape (1024,1024) into shape (5,5)",
     "output_type": "error",
     "traceback": [
      "\u001b[1;31m---------------------------------------------------------------------------\u001b[0m",
      "\u001b[1;31mValueError\u001b[0m                                Traceback (most recent call last)",
      "\u001b[1;32m<ipython-input-4-f12a456a5d31>\u001b[0m in \u001b[0;36m<module>\u001b[1;34m\u001b[0m\n\u001b[1;32m----> 1\u001b[1;33m \u001b[0mmf\u001b[0m\u001b[1;33m.\u001b[0m\u001b[0mmerge\u001b[0m\u001b[1;33m(\u001b[0m\u001b[0mmetadata\u001b[0m\u001b[1;33m)\u001b[0m\u001b[1;33m\u001b[0m\u001b[1;33m\u001b[0m\u001b[0m\n\u001b[0m",
      "\u001b[1;32m~\\Dropbox\\GitHub\\colony-image-analysis\\src\\merging_functions.py\u001b[0m in \u001b[0;36mmerge\u001b[1;34m(metadata)\u001b[0m\n\u001b[0;32m    303\u001b[0m     \u001b[1;31m#####################################################################\u001b[0m\u001b[1;33m\u001b[0m\u001b[1;33m\u001b[0m\u001b[1;33m\u001b[0m\u001b[0m\n\u001b[0;32m    304\u001b[0m     \u001b[1;31m#####################################################################\u001b[0m\u001b[1;33m\u001b[0m\u001b[1;33m\u001b[0m\u001b[1;33m\u001b[0m\u001b[0m\n\u001b[1;32m--> 305\u001b[1;33m                 \u001b[0mimg_merged_bw\u001b[0m\u001b[1;33m[\u001b[0m\u001b[1;33m(\u001b[0m\u001b[0myix\u001b[0m\u001b[1;33m*\u001b[0m\u001b[0mheight\u001b[0m\u001b[1;33m)\u001b[0m\u001b[1;33m:\u001b[0m\u001b[1;33m(\u001b[0m\u001b[1;33m(\u001b[0m\u001b[0myix\u001b[0m\u001b[1;33m+\u001b[0m\u001b[1;36m1\u001b[0m\u001b[1;33m)\u001b[0m\u001b[1;33m*\u001b[0m\u001b[0mheight\u001b[0m\u001b[1;33m)\u001b[0m\u001b[1;33m,\u001b[0m \u001b[1;33m(\u001b[0m\u001b[0mxix\u001b[0m\u001b[1;33m*\u001b[0m\u001b[0mwidth\u001b[0m\u001b[1;33m)\u001b[0m\u001b[1;33m:\u001b[0m\u001b[1;33m(\u001b[0m\u001b[1;33m(\u001b[0m\u001b[0mxix\u001b[0m\u001b[1;33m+\u001b[0m\u001b[1;36m1\u001b[0m\u001b[1;33m)\u001b[0m\u001b[1;33m*\u001b[0m\u001b[0mwidth\u001b[0m\u001b[1;33m)\u001b[0m\u001b[1;33m]\u001b[0m \u001b[1;33m=\u001b[0m\u001b[0;31m \u001b[0m\u001b[0;31m\\\u001b[0m\u001b[1;33m\u001b[0m\u001b[1;33m\u001b[0m\u001b[0m\n\u001b[0m\u001b[0;32m    306\u001b[0m                     \u001b[0mflipped_img\u001b[0m\u001b[1;33m[\u001b[0m\u001b[0mblock\u001b[0m\u001b[1;33m.\u001b[0m\u001b[0myidx\u001b[0m\u001b[1;33m[\u001b[0m\u001b[1;36m0\u001b[0m\u001b[1;33m]\u001b[0m\u001b[1;33m:\u001b[0m\u001b[1;33m(\u001b[0m\u001b[0mblock\u001b[0m\u001b[1;33m.\u001b[0m\u001b[0myidx\u001b[0m\u001b[1;33m[\u001b[0m\u001b[1;33m-\u001b[0m\u001b[1;36m1\u001b[0m\u001b[1;33m]\u001b[0m\u001b[1;33m+\u001b[0m\u001b[1;36m1\u001b[0m\u001b[1;33m)\u001b[0m\u001b[1;33m,\u001b[0m \u001b[0mblock\u001b[0m\u001b[1;33m.\u001b[0m\u001b[0mxidx\u001b[0m\u001b[1;33m[\u001b[0m\u001b[1;36m0\u001b[0m\u001b[1;33m]\u001b[0m\u001b[1;33m:\u001b[0m\u001b[1;33m(\u001b[0m\u001b[0mblock\u001b[0m\u001b[1;33m.\u001b[0m\u001b[0mxidx\u001b[0m\u001b[1;33m[\u001b[0m\u001b[1;33m-\u001b[0m\u001b[1;36m1\u001b[0m\u001b[1;33m]\u001b[0m\u001b[1;33m+\u001b[0m\u001b[1;36m1\u001b[0m\u001b[1;33m)\u001b[0m\u001b[1;33m]\u001b[0m\u001b[1;33m\u001b[0m\u001b[1;33m\u001b[0m\u001b[0m\n\u001b[0;32m    307\u001b[0m \u001b[1;33m\u001b[0m\u001b[0m\n",
      "\u001b[1;31mValueError\u001b[0m: could not broadcast input array from shape (1024,1024) into shape (5,5)"
     ]
    }
   ],
   "source": [
    "mf.merge(metadata)"
   ]
  },
  {
   "cell_type": "code",
   "execution_count": null,
   "metadata": {},
   "outputs": [],
   "source": []
  }
 ],
 "metadata": {
  "kernelspec": {
   "display_name": "Python 3",
   "language": "python",
   "name": "python3"
  },
  "language_info": {
   "codemirror_mode": {
    "name": "ipython",
    "version": 3
   },
   "file_extension": ".py",
   "mimetype": "text/x-python",
   "name": "python",
   "nbconvert_exporter": "python",
   "pygments_lexer": "ipython3",
   "version": "3.8.5"
  }
 },
 "nbformat": 4,
 "nbformat_minor": 4
}
