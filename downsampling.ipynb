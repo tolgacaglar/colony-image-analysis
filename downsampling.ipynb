{
 "cells": [
  {
   "cell_type": "markdown",
   "metadata": {},
   "source": [
    "## Downsample the large tif images to (512,512)"
   ]
  },
  {
   "cell_type": "code",
   "execution_count": null,
   "metadata": {},
   "outputs": [],
   "source": [
    "%matplotlib notebook\n",
    "\n",
    "# Dependencies\n",
    "import xml.etree.ElementTree as ET\n",
    "import numpy as np\n",
    "import glob\n",
    "import cv2\n",
    "import sys\n",
    "import time\n",
    "\n",
    "import colony_iomethods as cm\n",
    "\n",
    "from matplotlib import pyplot as plt"
   ]
  },
  {
   "cell_type": "code",
   "execution_count": null,
   "metadata": {},
   "outputs": [],
   "source": [
    "# Folder for the files\n",
    "exp_name = \"EQ59_Single_Colony_TilesScan.lif\"\n",
    "acq_name = \"3dTimeScan_17h_init_long\"\n",
    "\n",
    "base_folder = f\"D:/Tolga/Colony Images/{exp_name}/{acq_name}/\"\n",
    "\n",
    "# Replace the metadata_path with\n",
    "metadata_path = base_folder + f\"MetaData/{exp_name}_{acq_name}_Properties.xml\"\n",
    "\n",
    "tree = ET.parse(metadata_path)    # xml tree of the current stage position\n",
    "root = tree.getroot()           # root of the xml tree\n",
    "\n",
    "image_xml = root[0]\n",
    "\n",
    "# Merged images folder\n",
    "merged_folder = base_folder + \"Merged/\"\n",
    "# Downsampled images folder\n",
    "downsampled_folder = base_folder + \"Downsampled/\""
   ]
  },
  {
   "cell_type": "code",
   "execution_count": null,
   "metadata": {},
   "outputs": [],
   "source": [
    "merged_path = merged_folder + f\"{acq_name}_t00_z000.tif\"\n",
    "# Image dimension description\n",
    "dim_desc = cm.collectImageDim(image_xml)\n",
    "\n",
    "img_test = cv2.imread(merged_path)\n",
    "(height, width, layers) = img_test.shape\n",
    "\n",
    "resize_dim = (512,512)\n",
    "scale = resize_dim[0]/height\n"
   ]
  },
  {
   "cell_type": "code",
   "execution_count": null,
   "metadata": {},
   "outputs": [],
   "source": [
    "# For a set number of t\n",
    "dim_desc[\"tsz\"] = 1\n",
    "# For a set number of z\n",
    "dim_desc[\"zsz\"] = 1\n",
    "for tix in range(dim_desc[\"tsz\"]):\n",
    "    t_str = \"t%02d\" % (tix+12)\n",
    "    img_zsum = np.zeros(dim_desc[\"zsz\"])\n",
    "    for zix in range(dim_desc[\"zsz\"]):\n",
    "        z_str = \"z%03d\" % (zix)\n",
    "        merged_path = merged_folder + f\"{acq_name}_{t_str}_{z_str}.tif\"\n",
    "        downsampled_path = downsampled_folder + f\"{acq_name}_{t_str}_{z_str}.tif\"\n",
    "        print(f\"Loading file = {merged_path}\", end=\"\\r\", flush=True)\n",
    "        \n",
    "        img = cv2.imread(merged_path)\n",
    "        while (type(img) == type(None)):\n",
    "            time.sleep(1) # wait 1 sec and retry\n",
    "            img = cv2.imread(merged_path)\n",
    "        img_blur = cv2.GaussianBlur(img, (11,11),0)\n",
    "        img_thresh = cv2.accumulate\n",
    "\n",
    "        # Resize for video output\n",
    "        img_resized = cv2.resize(img_blur, resize_dim)\n",
    "        cv2.imwrite(downsampled_path, img_resized)"
   ]
  },
  {
   "cell_type": "code",
   "execution_count": null,
   "metadata": {},
   "outputs": [],
   "source": [
    "merged_path"
   ]
  },
  {
   "cell_type": "code",
   "execution_count": null,
   "metadata": {},
   "outputs": [],
   "source": [
    "merged_path = merged_folder + f\"{acq_name}_{t_str}_z140.tif\"\n",
    "img = cv2.imread(merged_path, cv2.IMREAD_GRAYSCALE)\n",
    "\n",
    "tilescan_desc = cm.collectTileScan(image_xml)\n",
    "\n",
    "tile_xcnt = tilescan_desc[\"tile_xcnt\"]\n",
    "tile_ycnt = tilescan_desc[\"tile_ycnt\"]\n",
    "\n",
    "scalex = 1.0/tile_xcnt/2\n",
    "scaley = 1.0/tile_ycnt/2\n",
    "\n",
    "centerx_movie = 248\n",
    "centery_movie = 260\n",
    "\n",
    "centerx = int(centerx_movie/scalex)\n",
    "centery = int(centery_movie/scaley)"
   ]
  },
  {
   "cell_type": "code",
   "execution_count": null,
   "metadata": {},
   "outputs": [],
   "source": [
    "img"
   ]
  },
  {
   "cell_type": "code",
   "execution_count": null,
   "metadata": {},
   "outputs": [],
   "source": [
    "values = np.unique(img)[1:]\n",
    "print(values)\n",
    "nonzero_counts = np.zeros(len(values), dtype=np.uint64)\n",
    "for cix in range(len(nonzero_counts)):\n",
    "    nonzero_counts[cix] = img[img == values[cix]].size\n",
    "\n",
    "\n",
    "_, thresh = cv2.threshold(img, values[0], 1, cv2.THRESH_BINARY)\n",
    "filtered = cv2.boxFilter(thresh, -1, (15,15), normalize=False)\n",
    "\n",
    "values = np.unique(filtered)[1:]\n",
    "nonzero_counts_filter = np.zeros(len(values), dtype=np.uint8)\n",
    "for cix in range(len(nonzero_counts_filter)):\n",
    "    nonzero_counts_filter[cix] = filtered[filtered == values[cix]].size\n",
    "\n",
    "# display(nonzero_counts_filter)\n",
    "    \n",
    "delta = 1500\n",
    "shiftx = 0\n",
    "fig,ax = plt.subplots()\n",
    "# ax.imshow(thresh[(centery-delta):(centery+delta), (centerx-delta+shiftx):(centerx+delta+shiftx)], cmap=\"gray\")\n",
    "print(\"min = %d, max = %d\" % (np.min(filtered), np.max(filtered)))\n",
    "ax.imshow(filtered, cmap=\"gray\")"
   ]
  },
  {
   "cell_type": "code",
   "execution_count": null,
   "metadata": {},
   "outputs": [],
   "source": [
    "filtered.shape"
   ]
  },
  {
   "cell_type": "code",
   "execution_count": null,
   "metadata": {},
   "outputs": [],
   "source": [
    "edges = cv2.Canny(img, 5, 20)\n",
    "# plt.subplot(121),plt.imshow(img,cmap = 'gray')\n",
    "plt.title('Original Image'), plt.xticks([]), plt.yticks([])\n",
    "img_resized = cv2.resize(edges,(512,512))\n",
    "plt.subplot(111),plt.imshow(img_resized,cmap = 'gray')\n",
    "plt.title('Edge Image'), plt.xticks([]), plt.yticks([])"
   ]
  },
  {
   "cell_type": "code",
   "execution_count": null,
   "metadata": {},
   "outputs": [],
   "source": [
    "img2 = cv2.GaussianBlur(img, (11,11), 0)\n",
    "_,img2 = cv2.threshold(img2, 5, 255, cv2.THRESH_BINARY)\n",
    "img2 = cv2.resize(img2, resize_dim)\n",
    "plt.imshow(img2)"
   ]
  },
  {
   "cell_type": "code",
   "execution_count": null,
   "metadata": {},
   "outputs": [],
   "source": [
    "plt.imshow(img_resized)"
   ]
  },
  {
   "cell_type": "code",
   "execution_count": null,
   "metadata": {},
   "outputs": [],
   "source": []
  }
 ],
 "metadata": {
  "kernelspec": {
   "display_name": "Python 3",
   "language": "python",
   "name": "python3"
  },
  "language_info": {
   "codemirror_mode": {
    "name": "ipython",
    "version": 3
   },
   "file_extension": ".py",
   "mimetype": "text/x-python",
   "name": "python",
   "nbconvert_exporter": "python",
   "pygments_lexer": "ipython3",
   "version": "3.8.5"
  }
 },
 "nbformat": 4,
 "nbformat_minor": 4
}
