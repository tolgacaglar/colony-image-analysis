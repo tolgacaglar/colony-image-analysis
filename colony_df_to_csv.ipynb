{
 "cells": [
  {
   "cell_type": "markdown",
   "metadata": {},
   "source": [
    "# Analyze colony images from the frames of the videos\n",
    "# Cannot create a df of all the timepoints, the file becomes too large!"
   ]
  },
  {
   "cell_type": "code",
   "execution_count": null,
   "metadata": {},
   "outputs": [],
   "source": [
    "%matplotlib notebook\n",
    "\n",
    "import numpy as np\n",
    "import pandas as pd\n",
    "import cv2\n",
    "import sys\n",
    "\n",
    "import colony_iomethods as cm\n",
    "import xml.etree.ElementTree as ET # for XML properties\n",
    "\n",
    "from matplotlib import pyplot as plt"
   ]
  },
  {
   "cell_type": "markdown",
   "metadata": {},
   "source": [
    "## Flatten the 2d numpy array and obtain the x,y indices from the image\n",
    "### Numpy arrays are flattened in C' style by default. C style is column-first."
   ]
  },
  {
   "cell_type": "code",
   "execution_count": null,
   "metadata": {},
   "outputs": [],
   "source": [
    "def img_flatten(img, extent):\n",
    "    # img needs to be 2d numpy array\n",
    "    (height, width) = img.shape\n",
    "    \n",
    "    # Flattened image returns \n",
    "    img_flat = img.flatten()\n",
    "    \n",
    "    # Column-first (xix-first)\n",
    "    xix = np.array(list(range(extent[2],extent[3]))*width, dtype=np.uint16)\n",
    "    yix = np.array([[d]*height for d in range(extent[0],extent[1])], dtype=np.uint16).flatten()\n",
    "    return (xix, yix, img_flat)\n",
    "\n",
    "def imgflat_to_2d(imgflat_roi, xixflat_roi, yixflat_roi):\n",
    "    xunique = np.unique(xixflat_roi)\n",
    "    yunique = np.unique(yixflat_roi)\n",
    "    img2d = np.zeros((len(yunique),len(xunique)))\n",
    "    for ix in range(len(xunique)):\n",
    "        for jx in range(len(yunique)):\n",
    "            img2d[jx, ix] = imgflat_roi[jx + ix*len(yunique)]\n",
    "    return (xunique, yunique, img2d)"
   ]
  },
  {
   "cell_type": "markdown",
   "metadata": {},
   "source": [
    "## Save all the frames of an .avi video to a dataframe\n",
    "* Columns include: [xix, yix, zix, tix, pixel->uint8]\n",
    "* Indices are extracted from the filename for tix, frame count and xml data for xix, yix, and zix\n",
    "* the values, xval, yval, zval, tval are the values of the given pixel in units of xunit, yunit, zunit, tunit, read from the xml properties file\n",
    "* Will append the pixel average values from various blurring options\n",
    "\n",
    "### File paths"
   ]
  },
  {
   "cell_type": "code",
   "execution_count": null,
   "metadata": {},
   "outputs": [],
   "source": [
    "# Filename\n",
    "fname = \"3dTimeScan_17h_init_long\"\n",
    "tstrar = [\"t%02d\" % (tix) for tix in range(48)]\n",
    "\n",
    "# Working folder\n",
    "folder = \"C:/Users/Tolga/Dropbox/Raw Data/Colony Images - Confocal/02112020/\" + fname + \"/\"\n",
    "\n",
    "#Video folder and path\n",
    "vidfolder = \"Videos/\"\n",
    "\n",
    "# XML properties file\n",
    "xml_name = \"Metadata/EQ59_Single_Colony_TilesScan.lif_\" + fname + \"_Properties.xml\"\n",
    "xml_path = folder + xml_name"
   ]
  },
  {
   "cell_type": "markdown",
   "metadata": {},
   "source": [
    "### Important!! \n",
    "#### Each frame is scaled from a tilescan of 1024x1024 images, to a final 512x512 in the video.\n",
    "* Collect the tilescan positions and obtain the scalex and scaley\n",
    "\n",
    "* Scale xvoxel and yvoxel accordingly"
   ]
  },
  {
   "cell_type": "markdown",
   "metadata": {},
   "source": [
    "### Read XML properties"
   ]
  },
  {
   "cell_type": "code",
   "execution_count": null,
   "metadata": {},
   "outputs": [],
   "source": [
    "tree = ET.parse(xml_path)    # xml tree of the current stage position\n",
    "root = tree.getroot()           # root of the xml tree\n",
    "\n",
    "image_xml = root[0]\n",
    "\n",
    "# Tilescan properties\n",
    "tilescan_desc = cm.collectTileScan(image_xml)\n",
    "# Number of tiles in x- and y- directions\n",
    "tile_xcnt = tilescan_desc[\"tile_xcnt\"]\n",
    "tile_ycnt = tilescan_desc[\"tile_ycnt\"]\n",
    "# Scale factors\n",
    "scalex = 1.0/tile_xcnt/2\n",
    "scaley = 1.0/tile_ycnt/2\n",
    "\n",
    "dim_desc = cm.collectImageDim(image_xml)\n",
    "xsz = dim_desc[\"xsz\"]\n",
    "ysz = dim_desc[\"ysz\"]\n",
    "zsz = dim_desc[\"zsz\"]\n",
    "tsz = dim_desc[\"tsz\"]\n",
    "xvoxel = dim_desc[\"xvoxel\"]/scalex\n",
    "yvoxel = dim_desc[\"yvoxel\"]/scaley\n",
    "zvoxel = dim_desc[\"zvoxel\"]\n",
    "xunit = dim_desc[\"xunit\"]\n",
    "yunit = dim_desc[\"yunit\"]\n",
    "zunit = dim_desc[\"zunit\"]"
   ]
  },
  {
   "cell_type": "markdown",
   "metadata": {},
   "source": [
    "### Read and save each frame of the video"
   ]
  },
  {
   "cell_type": "code",
   "execution_count": null,
   "metadata": {
    "scrolled": true
   },
   "outputs": [],
   "source": [
    "# ROI in um\n",
    "xsmall = 443\n",
    "xlarge = 3200\n",
    "ysmall = 450\n",
    "ylarge = 3220\n",
    "\n",
    "# Accepted ROI is in range xsmall, xlarge, ysmall, ylarge\n",
    "# Calculate the corresponding indices: xixsmall, xixlarge, yixsmall, yixlarge\n",
    "# xvoxel*xixsmall = xsmall\n",
    "xixsmall = np.uint16(xsmall/xvoxel)\n",
    "xixlarge = np.uint16(xlarge/xvoxel)\n",
    "yixsmall = np.uint16(ysmall/yvoxel)\n",
    "yixlarge = np.uint16(ylarge/yvoxel)\n",
    "extent = [xixsmall, xixlarge, yixsmall, yixlarge]\n",
    "\n",
    "# Dictionary for DataFrame creating, define the columns\n",
    "df_dict = {\"xix\": np.empty(0, dtype = np.uint16),\n",
    "           \"yix\": np.empty(0, dtype = np.uint16),\n",
    "           \"zix\": np.empty(0, dtype = np.uint8),\n",
    "           \"tix\": np.empty(0, dtype = np.uint8), \n",
    "           \"pixel\": np.empty(0, dtype = np.uint8)}\n",
    "\n",
    "tvoxel = 0.5 # 30 minutes time intervals\n",
    "dfall = pd.DataFrame()\n",
    "for tstr in tstrar:\n",
    "    # Videopath\n",
    "    vidname = fname + \"_\" + tstr + \".avi\"\n",
    "    vidpath = folder + vidfolder + vidname\n",
    "    \n",
    "    # VideoCapture object for reading\n",
    "    vidcap = cv2.VideoCapture(vidpath)\n",
    "    # Frame properties\n",
    "    frame_count = int(vidcap.get(cv2.CAP_PROP_FRAME_COUNT))\n",
    "    frame_height = int(vidcap.get(cv2.CAP_PROP_FRAME_HEIGHT))\n",
    "    frame_width = int(vidcap.get(cv2.CAP_PROP_FRAME_WIDTH))\n",
    "\n",
    "    # Each frame shares the same x,y values at the same pixel position--> Run through each z (frame) and t\n",
    "    xvals_unique = np.arange(0,frame_width*xvoxel, xvoxel)\n",
    "    yvals_unique = np.arange(0,frame_height*yvoxel, yvoxel)\n",
    "    \n",
    "    # Time identifier\n",
    "    tix = np.uint8(tstr[1:])\n",
    "    # Run through each frame of the video\n",
    "    for frix in range(frame_count):\n",
    "        print(\"\\rSaving time %d, frame %d\" % (tix, frix), end=\"\")\n",
    "        sys.stdout.flush()\n",
    "\n",
    "        zval = frix*zvoxel\n",
    "        success,frame = vidcap.read()\n",
    "        frame_gray = cv2.cvtColor(frame, cv2.COLOR_BGR2GRAY)\n",
    "\n",
    "        img_roi = frame_gray[yixsmall:yixlarge, xixsmall:xixlarge]   # small inclusie, large exclusive\n",
    "        xixflat_roi, yixflat_roi, imgflat_roi = img_flatten(img_roi, extent)\n",
    "\n",
    "        df_dict[\"xix\"] = np.append(df_dict.get(\"xix\"), xixflat_roi)\n",
    "        df_dict[\"yix\"] = np.append(df_dict.get(\"yix\"), yixflat_roi)\n",
    "        df_dict[\"zix\"] = np.append(df_dict.get(\"zix\"), np.array([frix]*len(xixflat_roi), dtype=np.uint8))\n",
    "        df_dict[\"tix\"] = np.append(df_dict.get(\"tix\"), np.array([tix]*len(xixflat_roi), dtype=np.uint8))\n",
    "        df_dict[\"pixel\"] = np.append(df_dict.get(\"pixel\"), imgflat_roi)\n",
    "        \n",
    "    # Save data to a dataframe\n",
    "    dfall = dfall.append(pd.DataFrame(df_dict), ignore_index = True)\n",
    "    # Save to a csv file\n",
    "#     csvfolder = folder + \"csv_data/\"\n",
    "#     csvpath = csvfolder + fname + \"_\" + tstr + \".csv\"\n",
    "#     df.to_csv(csvpath, index=False)"
   ]
  },
  {
   "cell_type": "code",
   "execution_count": null,
   "metadata": {},
   "outputs": [],
   "source": []
  },
  {
   "cell_type": "code",
   "execution_count": null,
   "metadata": {},
   "outputs": [],
   "source": [
    "csvfolder = folder + \"csv_data/\"\n",
    "csvpath = csvfolder + fname + \"_\" + tstr + \".csv\"\n",
    "    "
   ]
  },
  {
   "cell_type": "code",
   "execution_count": null,
   "metadata": {},
   "outputs": [],
   "source": [
    "csvfolder"
   ]
  },
  {
   "cell_type": "code",
   "execution_count": null,
   "metadata": {},
   "outputs": [],
   "source": [
    "csvpath"
   ]
  },
  {
   "cell_type": "code",
   "execution_count": null,
   "metadata": {},
   "outputs": [],
   "source": []
  }
 ],
 "metadata": {
  "kernelspec": {
   "display_name": "Python 3",
   "language": "python",
   "name": "python3"
  },
  "language_info": {
   "codemirror_mode": {
    "name": "ipython",
    "version": 3
   },
   "file_extension": ".py",
   "mimetype": "text/x-python",
   "name": "python",
   "nbconvert_exporter": "python",
   "pygments_lexer": "ipython3",
   "version": "3.7.4"
  }
 },
 "nbformat": 4,
 "nbformat_minor": 4
}
