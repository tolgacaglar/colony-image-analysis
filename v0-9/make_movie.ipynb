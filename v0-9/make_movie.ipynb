{
 "cells": [
  {
   "cell_type": "code",
   "execution_count": null,
   "metadata": {},
   "outputs": [],
   "source": [
    "# Dependencies\n",
    "import xml.etree.ElementTree as ET\n",
    "import numpy as np\n",
    "import glob\n",
    "import cv2\n",
    "import sys\n",
    "import time\n",
    "\n",
    "import colony_iomethods as cm\n",
    "\n",
    "from matplotlib import pyplot as plt"
   ]
  },
  {
   "cell_type": "code",
   "execution_count": null,
   "metadata": {},
   "outputs": [],
   "source": [
    "exp_name = \"EQ59_SingleTimePoint_01192021\"\n",
    "acq_name = \"TileScan_Morphology\"\n",
    "channel_str = \"_ch01\"\n",
    "\n",
    "# base_folder = f\"D:/Tolga/Colony Images/{exp_name}/{acq_name}/\"\n",
    "base_folder = f\"E:/Tolga/{exp_name}/\"\n",
    "\n",
    "# Replace the metadata_path with\n",
    "metadata_path = base_folder + f\"MetaData/{exp_name}_{acq_name}_Properties.xml\"\n",
    "\n",
    "tree = ET.parse(metadata_path)    # xml tree of the current stage position\n",
    "root = tree.getroot()           # root of the xml tree\n",
    "\n",
    "image = root[0]\n",
    "\n",
    "# Merged images folder\n",
    "merged_folder = base_folder + \"Merged/\"\n",
    "# Video folder\n",
    "# video_folder = base_folder + \"Videos_Marked/\"\n",
    "video_folder = base_folder + \"Videos_Unmarked/\""
   ]
  },
  {
   "cell_type": "code",
   "execution_count": null,
   "metadata": {},
   "outputs": [],
   "source": [
    "merged_path = merged_folder + f\"{acq_name}_z000{channel_str}.tif\"\n",
    "# merged_path = merged_folder + f\"{acq_name}_z000.tif\"\n",
    "# merged_path"
   ]
  },
  {
   "cell_type": "code",
   "execution_count": null,
   "metadata": {},
   "outputs": [],
   "source": [
    "merged_path"
   ]
  },
  {
   "cell_type": "code",
   "execution_count": null,
   "metadata": {},
   "outputs": [],
   "source": [
    "# Image dimension description\n",
    "dim_desc = cm.collectImageDim(image)\n",
    "\n",
    "img_test = cv2.imread(merged_path)\n",
    "(height, width, layers) = img_test.shape\n",
    "\n",
    "dim_vid = (512,512)\n",
    "scale = dim_vid[0]/height\n"
   ]
  },
  {
   "cell_type": "code",
   "execution_count": null,
   "metadata": {},
   "outputs": [],
   "source": [
    "merged_path"
   ]
  },
  {
   "cell_type": "code",
   "execution_count": null,
   "metadata": {},
   "outputs": [],
   "source": [
    "# For a set number of t\n",
    "dim_desc[\"tsz\"] = 1\n",
    "# For a set number of z\n",
    "# dim_desc[\"zsz\"] = 80\n",
    "for tix in range(dim_desc[\"tsz\"]):\n",
    "    t_str = \"t%02d\" % (tix)\n",
    "    video_path = video_folder + f\"{acq_name}_{t_str}.avi\"\n",
    "    out = cv2.VideoWriter(video_path, cv2.VideoWriter_fourcc(*'DIVX'), 4, dim_vid)\n",
    "    img_zsum = np.zeros(dim_desc[\"zsz\"])\n",
    "    for zix in range(dim_desc[\"zsz\"]):\n",
    "        z_str = \"z%03d\" % (zix)\n",
    "#         merged_path = merged_folder + f\"{acq_name}_{t_str}_{z_str}.tif\"\n",
    "        merged_path = merged_folder + f\"{acq_name}_{z_str}{channel_str}.tif\"\n",
    "\n",
    "        print(f\"Loading file = {merged_path}\", end=\"\\r\", flush=True)\n",
    "        \n",
    "        img = cv2.imread(merged_path)\n",
    "        while (type(img) == type(None)):\n",
    "            time.sleep(1) # wait 1 sec and retry\n",
    "            img = cv2.imread(merged_path)\n",
    "        img_blur = cv2.GaussianBlur(img, (11,11),0)\n",
    "\n",
    "        # Add contrast for better visualization.\n",
    "        alpha = 20\n",
    "        beta = -10\n",
    "        img_contrast = np.uint8(np.clip(alpha*img_blur + beta, 0, 255))\n",
    "        # Resize for video output\n",
    "        img_resized = cv2.resize(img_contrast, dim_vid)\n",
    "\n",
    "#         # Scale bar\n",
    "#         scalebar_length = 500   # in um\n",
    "#         bar_start_coor = (50,440)\n",
    "#         bar_end_coor = (int(50 + scalebar_length/dim_desc[\"xvoxel\"]*scale),450)\n",
    "#         bar_thickness = -1\n",
    "#         bar_color = (255,255,255)\n",
    "#         cv2.rectangle(img_resized, bar_start_coor, bar_end_coor, bar_color, bar_thickness)\n",
    "        \n",
    "#         text_x = int(bar_start_coor[0])\n",
    "#         text_y = int((bar_start_coor[1]+bar_end_coor[1])/2 + 30)\n",
    "#         cv2.putText(img_resized,\"%d %s\" % (scalebar_length, dim_desc[\"xunit\"]), (text_x,text_y), cv2.FONT_HERSHEY_SIMPLEX, 1, (255,255,255), 2)\n",
    "        \n",
    "#         zval_x = 260\n",
    "#         zval_y = 50\n",
    "#         z_str = \"z=%.3f%s\" % (zix*dim_desc[\"zvoxel\"]/1e3, \"mm\")\n",
    "#         cv2.putText(img_resized, z_str, (zval_x, zval_y), cv2.FONT_HERSHEY_SIMPLEX, 1, (255,255,255), 2)\n",
    "        \n",
    "        # tval_x = 0\n",
    "        # tval_y = 20\n",
    "        # t_str_show = \"t=20h %d min\" % (27)\n",
    "        # cv2.putText(img_jpg, t_str_show, (tval_x, tval_y), cv2.FONT_HERSHEY_SIMPLEX, 1, (255,255,255), 2)\n",
    "        \n",
    "        out.write(img_resized)\n",
    "        # img_zsum[zix] = sum(sum(sum(img_blur/255.)))/3\n",
    "        \n",
    "    out.release()"
   ]
  },
  {
   "cell_type": "code",
   "execution_count": null,
   "metadata": {},
   "outputs": [],
   "source": [
    "# img = cv2.imread(merged_path)\n",
    "imgNone = cv2.imread(\"asdasd\")"
   ]
  },
  {
   "cell_type": "code",
   "execution_count": null,
   "metadata": {},
   "outputs": [],
   "source": [
    "type(imgNone) == type(None)"
   ]
  },
  {
   "cell_type": "code",
   "execution_count": null,
   "metadata": {},
   "outputs": [],
   "source": [
    "out.release()"
   ]
  },
  {
   "cell_type": "code",
   "execution_count": null,
   "metadata": {},
   "outputs": [],
   "source": []
  }
 ],
 "metadata": {
  "kernelspec": {
   "display_name": "Python 3",
   "language": "python",
   "name": "python3"
  },
  "language_info": {
   "codemirror_mode": {
    "name": "ipython",
    "version": 3
   },
   "file_extension": ".py",
   "mimetype": "text/x-python",
   "name": "python",
   "nbconvert_exporter": "python",
   "pygments_lexer": "ipython3",
   "version": "3.8.5"
  }
 },
 "nbformat": 4,
 "nbformat_minor": 4
}
