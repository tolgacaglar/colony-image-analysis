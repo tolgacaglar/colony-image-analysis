{
 "cells": [
  {
   "cell_type": "code",
   "execution_count": null,
   "metadata": {},
   "outputs": [],
   "source": [
    "%matplotlib notebook\n",
    "\n",
    "# Dependencies\n",
    "import xml.etree.ElementTree as ET\n",
    "import numpy as np\n",
    "import glob\n",
    "import cv2\n",
    "import sys\n",
    "import pandas as pd\n",
    "\n",
    "import colony_iomethods as cm\n",
    "import tracker as tr\n",
    "\n",
    "from matplotlib import pyplot as plt"
   ]
  },
  {
   "cell_type": "code",
   "execution_count": null,
   "metadata": {},
   "outputs": [],
   "source": [
    "# Folder for the files\n",
    "exp_name = \"EQ59_Single_Colony_TilesScan.lif\"\n",
    "acq_name = \"3dTimeScan_17h_init_long\"\n",
    "\n",
    "# base_folder = f\"C:/Users/Tolga/Dropbox/GitHub/colony-image-analysis/{exp_name}/{acq_name}/\"\n",
    "base_folder = f\"D:/Tolga/Colony Images/{exp_name}/{acq_name}/\"\n",
    "\n",
    "# Replace the metadata_path with\n",
    "metadata_path = base_folder + f\"MetaData/{exp_name}_{acq_name}_Properties.xml\"\n",
    "\n",
    "tree = ET.parse(metadata_path)    # xml tree of the current stage position\n",
    "root = tree.getroot()           # root of the xml tree\n",
    "\n",
    "image_xml = root[0]\n",
    "\n",
    "# Video folder\n",
    "video_folder = base_folder + \"Videos_Unmarked/\"\n",
    "# Data folder for analysis:\n",
    "resource_folder = base_folder + \"Resources/\"\n",
    "csv_path = resource_folder + f\"{acq_name}_Movie.csv\""
   ]
  },
  {
   "cell_type": "code",
   "execution_count": null,
   "metadata": {},
   "outputs": [],
   "source": [
    "# Collect information from the xml\n",
    "dim_desc = cm.collectImageDim(image_xml)\n",
    "xsz = dim_desc[\"xsz\"]\n",
    "ysz = dim_desc[\"ysz\"]\n",
    "zsz = dim_desc[\"zsz\"]\n",
    "xvoxel = dim_desc[\"xvoxel\"]\n",
    "yvoxel = dim_desc[\"yvoxel\"]\n",
    "zvoxel = dim_desc[\"zvoxel\"]\n",
    "xunit = dim_desc[\"xunit\"]\n",
    "yunit = dim_desc[\"yunit\"]\n",
    "zunit = dim_desc[\"zunit\"]\n",
    "\n",
    "# Tilescan info\n",
    "tilescan_desc = cm.collectTileScan(image_xml)\n",
    "xixar = tilescan_desc[\"xix_unique_ar\"]\n",
    "yixar = tilescan_desc[\"yix_unique_ar\"]"
   ]
  },
  {
   "cell_type": "markdown",
   "metadata": {},
   "source": [
    "## Important!! \n",
    "### Each frame is scaled from a tilescan of 1024x1024 images, to a final 512x512 in the video.\n",
    "* Collect the tilescan positions and obtain the scalex and scaley\n",
    "\n",
    "* Scale xvoxel and yvoxel accordingly\n"
   ]
  },
  {
   "cell_type": "code",
   "execution_count": null,
   "metadata": {},
   "outputs": [],
   "source": [
    "tilescan_desc = cm.collectTileScan(image_xml)\n",
    "\n",
    "tile_xcnt = tilescan_desc[\"tile_xcnt\"]\n",
    "tile_ycnt = tilescan_desc[\"tile_ycnt\"]\n",
    "\n",
    "scalex = 1.0/tile_xcnt/2\n",
    "scaley = 1.0/tile_ycnt/2"
   ]
  },
  {
   "cell_type": "markdown",
   "metadata": {},
   "source": [
    "## Collect image sequence from 512x512 videos"
   ]
  },
  {
   "cell_type": "code",
   "execution_count": null,
   "metadata": {},
   "outputs": [],
   "source": [
    "# Go through each timepoint and each frame to collect the pixel and their locations that exceeds the threshold\n",
    "def get_image_sequence(video_folder, acq_name, t_str):\n",
    "    # Run through a single timepoint\n",
    "    video_path = video_folder + f\"{acq_name}_{t_str}.avi\"\n",
    "\n",
    "    # Video capture object\n",
    "    vidcap = cv2.VideoCapture(video_path)\n",
    "\n",
    "    # Frame properties\n",
    "    frame_count = int(vidcap.get(cv2.CAP_PROP_FRAME_COUNT))\n",
    "    frame_height = int(vidcap.get(cv2.CAP_PROP_FRAME_HEIGHT))\n",
    "    frame_width = int(vidcap.get(cv2.CAP_PROP_FRAME_WIDTH))\n",
    "\n",
    "    img_seq = np.zeros((frame_height, frame_width, frame_count))\n",
    "    for fix in range(frame_count):\n",
    "        # Read frmae\n",
    "        success,frame = vidcap.read()\n",
    "        # Convert to grayscale\n",
    "        frame_gray = cv2.cvtColor(frame, cv2.COLOR_BGR2GRAY)\n",
    "        img_seq[:,:,fix] = frame_gray\n",
    "        \n",
    "    return img_seq\n",
    "\n",
    "# frame info from test file\n",
    "\n",
    "t_str = \"t12\"\n",
    "video_path = video_folder + f\"{acq_name}_{t_str}.avi\"\n",
    "vidcap = cv2.VideoCapture(video_path)\n",
    "\n",
    "# Frame properties\n",
    "frame_count = int(vidcap.get(cv2.CAP_PROP_FRAME_COUNT))\n",
    "frame_height = int(vidcap.get(cv2.CAP_PROP_FRAME_HEIGHT))\n",
    "frame_width = int(vidcap.get(cv2.CAP_PROP_FRAME_WIDTH))"
   ]
  },
  {
   "cell_type": "markdown",
   "metadata": {},
   "source": [
    "## Interactive plot for locating center"
   ]
  },
  {
   "cell_type": "code",
   "execution_count": null,
   "metadata": {
    "scrolled": true
   },
   "outputs": [],
   "source": [
    "centerx = 248\n",
    "centery = 260\n",
    "\n",
    "\n",
    "zar = np.arange(0,zsz)\n",
    "img_seq = get_image_sequence(video_folder, acq_name, t_str)\n",
    "img_seq_maxz = np.zeros((frame_height, frame_width, len(zar))) # numpy 3d array image sequence to track max intensity images\n",
    "for zix in range(len(zar)):\n",
    "    roi_image = img_seq[:, :, zix]\n",
    "    blurred_image = cv2.GaussianBlur(roi_image, (5,5), 0).astype(np.uint8)\n",
    "    equalized_image = cv2.equalizeHist(blurred_image)\n",
    "    ret, threshold_image = cv2.threshold(blurred_image, 0, 255, cv2.THRESH_BINARY+cv2.THRESH_OTSU)\n",
    "    \n",
    "#     # Use threshold_image for manually measuring the radius and the center\n",
    "#     img_seq_maxz[:, :, tix] = threshold_image\n",
    "    # Use blurred_image for nice plots\n",
    "    cv2.circle(blurred_image, (centerx, centery), 80, (255,255,255), 1)\n",
    "    img_seq_maxz[:, :, zix] = blurred_image\n",
    "        \n",
    "\n",
    "# Plot the image sequence in a figure\n",
    "fig_maxint_img, ax = plt.subplots(1, 1, figsize=(4,4))\n",
    "tracker = tr.IndexTracker(ax, img_seq_maxz)#, args_dict)\n",
    "fig_maxint_img.canvas.mpl_connect('scroll_event', tracker.onscroll)\n",
    "plt.show()"
   ]
  },
  {
   "cell_type": "code",
   "execution_count": null,
   "metadata": {},
   "outputs": [],
   "source": [
    "img = img_seq[:,:,75]\n",
    "radius = 100\n",
    "circle_img = np.zeros((frame_height,frame_width), np.uint8)\n",
    "cv2.circle(circle_img,(int(centerx),int(centery)), radius,1,thickness=-1)\n",
    "masked_data = cv2.bitwise_and(img, img, mask=circle_img)\n",
    "flip_masked_data = cv2.bitwise_and(img, img, mask=(1-circle_img))\n",
    "\n",
    "masked_mean = masked_data.sum()/circle_img.sum()\n",
    "flip_masked_mean = flip_masked_data.sum()/(1-circle_img).sum()\n",
    "\n",
    "display(masked_mean)\n",
    "display(flip_masked_mean)\n",
    "display(img.mean())\n"
   ]
  },
  {
   "cell_type": "markdown",
   "metadata": {},
   "source": [
    "## Run through each frame and reduce the frames in the video based on the threshold"
   ]
  },
  {
   "cell_type": "code",
   "execution_count": null,
   "metadata": {},
   "outputs": [],
   "source": [
    "# LxL blocks\n",
    "pxl_threshold = 30\n",
    "cnt_threshold = 3\n",
    "block_length = 5\n",
    "reduced_height = int(frame_height/block_length)\n",
    "reduced_width = int(frame_width/block_length)\n",
    "\n",
    "# zix = 55 # z index\n",
    "# This part could be more efficient using built-in python capabilities\n",
    "Rar_pxl = np.arange(2,int(reduced_height/2), dtype=np.int) # radius in pixels\n",
    "central_average = np.zeros((len(Rar_pxl),frame_count), dtype=np.double)\n",
    "\n",
    "for zix in range(frame_count):\n",
    "    print(\"\\rCalculating %d/%d...\" % (zix, frame_count), end=\"\")\n",
    "    sys.stdout.flush()\n",
    "    reduced_avg_img = np.zeros((int(frame_height/block_length), \n",
    "                        int(frame_width/block_length)))\n",
    "    reduced_cnt_img = np.zeros((int(frame_height/block_length), \n",
    "                        int(frame_width/block_length)))\n",
    "    for yix in range(len(reduced_avg_img)):\n",
    "        for xix in range(len(reduced_avg_img[yix])):\n",
    "            block_img = img_seq[yix*block_length:(yix+1)*block_length,\n",
    "                                xix*block_length:(xix+1)*block_length,\n",
    "                                zix]\n",
    "            reduced_avg_img[yix,xix] = block_img.mean()\n",
    "            reduced_cnt_img[yix,xix] = (block_img > pxl_threshold).sum()\n",
    "            \n",
    "    \n",
    "    img = ((reduced_cnt_img > cnt_threshold).astype(np.uint8)*255)\n",
    "    for Rix in range(len(Rar_pxl)):\n",
    "        radius = Rar_pxl[Rix]\n",
    "        circle_img = np.zeros((reduced_height,reduced_width), np.uint8)\n",
    "        cv2.circle(circle_img,(int(centerx/block_length),int(centery/block_length)), radius,1,thickness=-1)\n",
    "        masked_data = cv2.bitwise_and(img, img, mask=circle_img)\n",
    "\n",
    "        central_average[Rix, zix] = masked_data.sum()/circle_img.sum()"
   ]
  },
  {
   "cell_type": "code",
   "execution_count": null,
   "metadata": {},
   "outputs": [],
   "source": [
    "fig, ax = plt.subplots(1,1)\n",
    "# ax.plot(Rar_pxl, central_average[:,120])\n",
    "radz = Rar_pxl[np.argmax(central_average,axis=0)]\n",
    "# ax.plot(zar, radz, 'o')\n",
    "ax.plot(np.max(central_average,axis=0), zar)"
   ]
  },
  {
   "cell_type": "markdown",
   "metadata": {},
   "source": [
    "### Reduced images from the frames of the videos"
   ]
  },
  {
   "cell_type": "code",
   "execution_count": null,
   "metadata": {},
   "outputs": [],
   "source": [
    "# Calculate circular average\n",
    "# LxL blocks\n",
    "pxl_threshold = 30\n",
    "cnt_threshold = 3\n",
    "block_length = 5\n",
    "\n",
    "reduced_height = int(frame_height/block_length)\n",
    "reduced_width = int(frame_width/block_length)\n",
    "\n",
    "zix = 150\n",
    "print(\"\\rCalculating %d/%d...\" % (zix, frame_count), end=\"\")\n",
    "sys.stdout.flush()\n",
    "reduced_avg_img = np.zeros((int(frame_height/block_length), \n",
    "                    int(frame_width/block_length)))\n",
    "reduced_cnt_img = np.zeros((int(frame_height/block_length), \n",
    "                    int(frame_width/block_length)))\n",
    "img_seq = get_image_sequence(video_folder, acq_name, \"t06\")\n",
    "for yix in range(len(reduced_avg_img)):\n",
    "    for xix in range(len(reduced_avg_img[yix])):\n",
    "        block_img = img_seq[yix*block_length:(yix+1)*block_length,\n",
    "                            xix*block_length:(xix+1)*block_length,\n",
    "                            zix]\n",
    "        reduced_avg_img[yix,xix] = block_img.mean()\n",
    "        reduced_cnt_img[yix,xix] = (block_img > pxl_threshold).sum()\n",
    "    \n",
    "fig,ax = plt.subplots(1,1)\n",
    "ax.imshow(reduced_cnt_img > cnt_threshold)"
   ]
  },
  {
   "cell_type": "markdown",
   "metadata": {},
   "source": [
    "### Check the central_sum function for the given params"
   ]
  },
  {
   "cell_type": "code",
   "execution_count": null,
   "metadata": {},
   "outputs": [],
   "source": [
    "img = ((reduced_cnt_img > cnt_threshold).astype(np.uint8)*255)\n",
    "(reduced_height, reduced_width) = img.shape\n",
    "\n",
    "Rar_pxl = np.arange(1,int(reduced_height/2), dtype=np.int) # radius in pixels\n",
    "central_sum = np.zeros_like(Rar_pxl, dtype=np.double)\n",
    "\n",
    "for Rix in range(len(Rar_pxl)):\n",
    "    radius = Rar_pxl[Rix]\n",
    "\n",
    "    circle_img = np.zeros((reduced_height,reduced_width), np.uint8)\n",
    "    cv2.circle(circle_img,(int(centerx/block_length),int(centery/block_length)), radius,1,thickness=-1)\n",
    "    masked_data = cv2.bitwise_and(img, img, mask=circle_img)\n",
    "\n",
    "    central_sum[Rix] = masked_data.sum()\n",
    "\n",
    "# Calculate the uniform fit (polyfit with degree=0)\n",
    "uniform_fit = np.zeros_like(Rar_pxl[:-1])\n",
    "for ix in range(len(Rar_pxl[:-1])):\n",
    "    edge_ix = Rar_pxl[ix]\n",
    "    uniform_fit[ix] = np.polyfit(Rar_pxl[edge_ix:], central_sum[edge_ix:], 0)\n",
    "    \n",
    "fig,ax = plt.subplots(1,1)\n",
    "ax.plot(Rar_pxl, central_sum)\n",
    "\n",
    "edge_pxl = Rar_pxl[np.abs(np.diff(uniform_fit, prepend=200, append=0)) < 100][0]\n",
    "edge_pxl"
   ]
  },
  {
   "cell_type": "markdown",
   "metadata": {},
   "source": [
    "### Central average throughout all scanning direcions (z and t)"
   ]
  },
  {
   "cell_type": "code",
   "execution_count": null,
   "metadata": {},
   "outputs": [],
   "source": [
    "# Calculate circular average\n",
    "# LxL blocks\n",
    "zar = np.arange(0,frame_count)\n",
    "tar = np.arange(0,8)\n",
    "# tar = np.array([7])\n",
    "outer_radius_ar = np.zeros((len(tar), len(zar)))\n",
    "masked_mean = np.zeros_like(outer_radius_ar)\n",
    "flip_masked_mean = np.zeros_like(outer_radius_ar)\n",
    "unmasked_mean = np.zeros_like(outer_radius_ar)\n",
    "for tix in range(len(tar)):\n",
    "    t_str = \"t%02d\" % tar[tix]\n",
    "    print(t_str)\n",
    "    img_seq = get_image_sequence(video_folder, acq_name, t_str)\n",
    "    for zix in range(len(zar)):\n",
    "        zstrix = zar[zix]\n",
    "        z_str = \"z%03d\" % (zstrix)\n",
    "\n",
    "        print(\"\\rCalculating %d/%d for tix=%d/%d\" % (zstrix, frame_count, tix, len(tar)), end=\"\")\n",
    "        sys.stdout.flush()\n",
    "\n",
    "        reduced_avg_img = np.zeros((reduced_height, reduced_width))\n",
    "        reduced_cnt_img = np.zeros_like(reduced_avg_img, dtype=np.int)\n",
    "\n",
    "        for yix in range(len(reduced_avg_img)):\n",
    "            for xix in range(len(reduced_avg_img[yix])):\n",
    "                block_img = img_seq[yix*block_length:(yix+1)*block_length,\n",
    "                                    xix*block_length:(xix+1)*block_length,\n",
    "                                    zix]\n",
    "                reduced_avg_img[yix,xix] = block_img.mean()\n",
    "                reduced_cnt_img[yix,xix] = (block_img > pxl_threshold).sum()\n",
    "\n",
    "        img = ((reduced_cnt_img > cnt_threshold).astype(np.uint8)*255)\n",
    "        (reduced_height, reduced_width) = img.shape\n",
    "\n",
    "        Rar_pxl = np.arange(1,int(reduced_height/2), dtype=np.int) # radius in pixels\n",
    "        central_sum = np.zeros_like(Rar_pxl, dtype=np.double)\n",
    "\n",
    "        # Calculate central sum: the sum of intensity of each pixel inside a circle\n",
    "        for Rix in range(len(Rar_pxl)):\n",
    "            radius = Rar_pxl[Rix]\n",
    "\n",
    "            circle_img = np.zeros((reduced_height,reduced_width), np.uint8)\n",
    "            cv2.circle(circle_img,(int(centerx/block_length),int(centery/block_length)), radius,1,thickness=-1)\n",
    "            masked_data = cv2.bitwise_and(img, img, mask=circle_img)\n",
    "\n",
    "            central_sum[Rix] = masked_data.sum()\n",
    "\n",
    "\n",
    "        # Calculate the uniform fit (polyfit with degree=0)\n",
    "        uniform_fit = np.zeros_like(Rar_pxl[:-1])\n",
    "        for ix in range(len(Rar_pxl[:-1])):\n",
    "            edge_ix = Rar_pxl[ix]\n",
    "            uniform_fit[ix] = np.polyfit(Rar_pxl[edge_ix:], central_sum[edge_ix:], 0)\n",
    "        try:\n",
    "            outer_radius_ar[tix, zix] = Rar_pxl[np.abs(np.diff(uniform_fit, prepend=200, append=0)) < 100][0]\n",
    "            radius = np.uint8(outer_radius_ar[tix,zix])\n",
    "            \n",
    "            full_img = img_seq[:,:,zix]\n",
    "            full_circle_img = np.zeros((frame_height, frame_width), np.uint8)\n",
    "            cv2.circle(full_circle_img, (centerx, centery), int(radius*block_length), 1, thickness=-1)\n",
    "            \n",
    "            masked_data = cv2.bitwise_and(full_img, full_img, mask=full_circle_img)\n",
    "            flip_masked_data = cv2.bitwise_and(full_img, full_img, mask=(1-full_circle_img))\n",
    "            \n",
    "            masked_mean[tix,zix] = np.double(masked_data.sum())/full_circle_img.sum()\n",
    "            flip_masked_mean[tix,zix] = np.double(flip_masked_data.sum())/(1-full_circle_img).sum()\n",
    "            unmasked_mean[tix,zix] = full_img.mean()\n",
    "        except IndexError:\n",
    "            print(\"Index Error\")\n",
    "            outer_radius_ar[tix, zix] = 0\n",
    "            radius = 0\n",
    "            circle_img = np.zeros((reduced_height,reduced_width), np.uint8)\n",
    "            cv2.circle(circle_img,(int(centerx/block_length),int(centery/block_length)), radius ,1,thickness=-1)\n",
    "            masked_data = cv2.bitwise_and(img, img, mask=circle_img)\n",
    "            flip_masked_data = cv2.bitwise_and(img, img, mask=(1-circle_img))\n",
    "            \n",
    "            masked_mean[tix,zix] = np.double(masked_data.sum())/circle_img.sum()\n",
    "            flip_masked_mean[tix,zix] = np.double(flip_masked_data.sum())/(1-circle_img).sum()\n",
    "            unmasked_mean[tix,zix] = img.mean()"
   ]
  },
  {
   "cell_type": "code",
   "execution_count": null,
   "metadata": {},
   "outputs": [],
   "source": [
    "outer_radius_mm = xsz*tile_xcnt/reduced_height*xvoxel*outer_radius_ar/1e3\n",
    "zar_mm = zar*zvoxel\n",
    "df_dict = {\"zar (mm)\": zar_mm}\n",
    "for tix in range(len(tar)):\n",
    "    t_str = \"t%02d\" % (tix)\n",
    "    df_dict[f\"rad_{t_str} (mm)\"] = outer_radius_mm[tix,:]\n",
    "    df_dict[f\"mean_{t_str}\"] = unmasked_mean[tix,:]\n",
    "    df_dict[f\"col_mean_{t_str}\"] = masked_mean[tix,:]\n",
    "    df_dict[f\"bg_mean_{t_str}\"] = flip_masked_mean[tix,:]\n",
    "    \n",
    "df = pd.DataFrame(data = df_dict)\n",
    "df.to_csv(csv_path)\n",
    "\n",
    "df_metadata = pd.DataFrame({\"type\": \"Movie\",\n",
    "                            \"pxl_threshold\": pxl_threshold,\n",
    "                            \"cnt_threshold\": cnt_threshold,\n",
    "                            \"centerx\": centerx,\n",
    "                            \"centery\": centery,\n",
    "                            \"block_length\": block_length},\n",
    "                           index = [0])\n",
    "df_metadata.to_csv(base_folder + f\"Resources/{acq_name}_Movie_Metadata.csv\")"
   ]
  },
  {
   "cell_type": "code",
   "execution_count": null,
   "metadata": {},
   "outputs": [],
   "source": [
    "# df.plot(x=\"zar (mm)\", y=\"bg_mean_t00\")\n",
    "fig,ax = plt.subplots(1,1)\n",
    "# ax.plot(zar, outer_radius_mm[0,:])\n",
    "ax.imshow(circle_img)"
   ]
  },
  {
   "cell_type": "code",
   "execution_count": null,
   "metadata": {},
   "outputs": [],
   "source": [
    "print(outer_radius_ar.shape)\n",
    "tar = np.arange(0,8)\n",
    "height = np.zeros_like(tar)\n",
    "for tix in range(len(tar)):\n",
    "    height[tix] = (outer_radius_ar[tix,:]>2).sum()\n",
    "    \n",
    "t = tar/2 + 12\n",
    "h = -height*zvoxel\n",
    "fig,ax = plt.subplots(1,1, dpi=100)\n",
    "ax.plot(t, h, 'o')\n",
    "ax.set_xlim(10,30)\n",
    "# ax.set_ylim(0,4)\n",
    "ax.set_xlabel(r'Time after plating')\n",
    "ax.set_ylabel(r'Colony height (um)')\n",
    "\n",
    "p = np.polyfit(t[2:],h[2:],1)\n",
    "tt = np.arange(0,30)\n",
    "hh = p[0]*tt + p[1]\n",
    "ax.plot(tt,hh, 'k--')\n",
    "p"
   ]
  },
  {
   "cell_type": "code",
   "execution_count": null,
   "metadata": {},
   "outputs": [],
   "source": [
    "df"
   ]
  },
  {
   "cell_type": "code",
   "execution_count": null,
   "metadata": {},
   "outputs": [],
   "source": [
    "# df.plot(x=\"zar (mm)\", y=\"bg_mean_t00\")\n",
    "\n",
    "fig,ax = plt.subplots(1,1)\n",
    "zar = df[\"zar (mm)\"]\n",
    "ax.plot(zar, df[\"bg_mean_t00\"],\n",
    "       zar, df[\"bg_mean_t01\"],\n",
    "       zar, df[\"bg_mean_t02\"],\n",
    "       zar, df[\"bg_mean_t03\"],\n",
    "       zar, df[\"bg_mean_t04\"],\n",
    "       zar, df[\"bg_mean_t05\"],\n",
    "       zar, df[\"bg_mean_t06\"],\n",
    "       zar, df[\"bg_mean_t07\"])"
   ]
  },
  {
   "cell_type": "code",
   "execution_count": null,
   "metadata": {},
   "outputs": [],
   "source": [
    "flip_masked_mean.dtype"
   ]
  },
  {
   "cell_type": "code",
   "execution_count": null,
   "metadata": {},
   "outputs": [],
   "source": [
    "df.plot(x=\"zar (mm)\", y=\"col_mean_t01\")"
   ]
  },
  {
   "cell_type": "code",
   "execution_count": null,
   "metadata": {},
   "outputs": [],
   "source": []
  }
 ],
 "metadata": {
  "kernelspec": {
   "display_name": "Python 3",
   "language": "python",
   "name": "python3"
  },
  "language_info": {
   "codemirror_mode": {
    "name": "ipython",
    "version": 3
   },
   "file_extension": ".py",
   "mimetype": "text/x-python",
   "name": "python",
   "nbconvert_exporter": "python",
   "pygments_lexer": "ipython3",
   "version": "3.8.5"
  }
 },
 "nbformat": 4,
 "nbformat_minor": 4
}
