{
 "cells": [
  {
   "cell_type": "code",
   "execution_count": null,
   "metadata": {},
   "outputs": [],
   "source": [
    "# Dependencies\n",
    "%matplotlib notebook\n",
    "\n",
    "import xml.etree.ElementTree as ET\n",
    "import numpy as np\n",
    "import glob\n",
    "import cv2\n",
    "import sys\n",
    "import time\n",
    "\n",
    "import colony_iomethods as cm\n",
    "import pandas as pd\n",
    "\n",
    "from matplotlib import pyplot as plt"
   ]
  },
  {
   "cell_type": "code",
   "execution_count": null,
   "metadata": {},
   "outputs": [],
   "source": [
    "# Folder for the files\n",
    "exp_name = \"EQ59_Gly_02022021\"\n",
    "acq_name_data = [[\"EQ59_Gly_02022021_TileScan_Tp1-5\", \"xyzt\"],\n",
    "               [\"EQ59_Gly_02022021_TileScan_Tp6-7\", \"xyzt\"],\n",
    "               [\"EQ59_Gly_02022021_TileScan_Tp8\", \"xyz\"],\n",
    "               [\"EQ59_Gly_02022021_TileScan_Tp9\", \"xyz\"],\n",
    "               [\"EQ59_Gly_02022021_TileScan_Tp10\", \"xyz\"],\n",
    "               [\"EQ59_Gly_02022021_TileScan_Tp11-24\", \"xyzt\"],\n",
    "               [\"EQ59_Gly_02022021_TileScan_Tp25\", \"xyz\"],\n",
    "               [\"EQ59_Gly_02022021_TileScan_Tp26\", \"xyz\"],\n",
    "               [\"EQ59_Gly_02022021_TileScan_Tp27\", \"xyz\"],\n",
    "               [\"EQ59_Gly_02022021_TileScan_Tp28\", \"xyz\"],\n",
    "               [\"EQ59_Gly_02022021_TileScan_Tp29\", \"xyz\"],\n",
    "               [\"EQ59_Gly_02022021_TileScan_Tp30-38\", \"xyzt\"],\n",
    "               [\"EQ59_Gly_02022021_TileScan_Tp39\", \"xyz\"],\n",
    "               [\"EQ59_Gly_02022021_TileScan_Tp40\", \"xyz\"],\n",
    "               [\"EQ59_Gly_02022021_TileScan_Tp41\", \"xyz\"]]\n",
    "acq_df = pd.DataFrame(acq_name_data, columns=[\"acq_name\", \"acq_type\"])\n",
    "channel_str = \"ch00\"\n",
    "\n",
    "exp_folder = f\"D:/Tolga/Colony Images/{exp_name}/\"\n",
    "metadata_folders = []\n",
    "base_folders = []\n",
    "image_xmls = []\n",
    "for aix in range(len(acq_df)):\n",
    "    acq_name = acq_df[\"acq_name\"].values[aix]\n",
    "    print(\"Reading %s\" % (acq_name), end=\"        \\r\", flush=True)\n",
    "    base_folders.append(exp_folder + f\"{acq_name}/\")\n",
    "    \n",
    "    metadata_folder = base_folders[-1] + \"Metadata/\"\n",
    "\n",
    "    tree = ET.parse(metadata_folder + f\"{acq_name}_Properties.xml\")    # xml tree of the current stage position\n",
    "    root = tree.getroot()           # root of the xml tree\n",
    "\n",
    "    image_xmls.append(root[0])\n",
    "\n",
    "# Add the metadata and xml objects to the dataframe\n",
    "acq_df[\"base_folder\"] = base_folders\n",
    "acq_df[\"image_xml\"] = image_xmls"
   ]
  },
  {
   "cell_type": "code",
   "execution_count": null,
   "metadata": {},
   "outputs": [],
   "source": [
    "ix = 12\n",
    "image = acq_df[\"image_xml\"][ix]\n",
    "acq_name = acq_df[\"acq_name\"][ix]\n",
    "base_folder = acq_df[\"base_folder\"][ix]\n",
    "print(\"Running for '%s', using method '%s'\" % (acq_name, acq_df[\"acq_type\"][ix]))\n",
    "base_folder"
   ]
  },
  {
   "cell_type": "code",
   "execution_count": null,
   "metadata": {},
   "outputs": [],
   "source": [
    "# merged_path = merged_folder + f\"{acq_name}_t0_z000.tif\"\n",
    "# merged_path = base_folder + channel_str + \"/Merged/\" + acq_name + \"_Merged_t00_z000_\" + channel_str + \".tif\"\n",
    "merged_path = base_folder + channel_str + \"/Merged/\" + acq_name + \"_Merged_z000_\" + channel_str + \".tif\"\n",
    "# Image dimension description\n",
    "dim_desc = cm.collectImageDim(image)\n",
    "\n",
    "img_test = cv2.imread(merged_path)\n",
    "(height, width, layers) = img_test.shape\n",
    "\n",
    "print(\"Image shape: (h%d,w%d,l%d)\" % (height, width, layers))"
   ]
  },
  {
   "cell_type": "code",
   "execution_count": null,
   "metadata": {},
   "outputs": [],
   "source": [
    "boxfilter_threshold = 79\n",
    "# Size of the box\n",
    "box_size = (15, 15)"
   ]
  },
  {
   "cell_type": "code",
   "execution_count": null,
   "metadata": {},
   "outputs": [],
   "source": [
    "tix = 0\n",
    "zix = 120\n",
    "\n",
    "t_str = \"t%02d\" % (tix)\n",
    "t_str = None\n",
    "img_zsum = np.zeros(dim_desc[\"zsz\"])\n",
    "z_str = \"z%03d\" % (zix)\n",
    "\n",
    "if t_str is not None:\n",
    "    merged_path = base_folder + f\"{channel_str}/Merged/{acq_name}_Merged_{t_str}_{z_str}_{channel_str}.tif\"\n",
    "    boxfiltered_path = base_folder + f\"{channel_str}/Boxfiltered/{acq_name}_Boxfiltered_{t_str}_{z_str}_{channel_str}.tif\"\n",
    "else:\n",
    "    merged_path = base_folder + f\"{channel_str}/Merged/{acq_name}_Merged_{z_str}_{channel_str}.tif\"\n",
    "    boxfiltered_path = base_folder + f\"{channel_str}/Boxfiltered/{acq_name}_Boxfiltered_{z_str}_{channel_str}.tif\"\n",
    "\n",
    "print(f\"Loading file = {merged_path}\", end=\"\\r\", flush=True)\n",
    "\n",
    "img = cv2.imread(merged_path)\n",
    "\n",
    "# Wait for the merge to complete\n",
    "while (type(img) == type(None)):\n",
    "    time.sleep(1) # wait 1 sec and retry\n",
    "    img = cv2.imread(merged_path)\n",
    "\n",
    "# Threshold based on the boxfilter_threshold (max set to 1)\n",
    "_, thresh = cv2.threshold(img, boxfilter_threshold, 1, cv2.THRESH_BINARY)\n",
    "# Boxfilter, accumulate the kernel sized box, and write to the center\n",
    "filtered = cv2.boxFilter(thresh, -1, box_size, normalize=False)"
   ]
  },
  {
   "cell_type": "code",
   "execution_count": null,
   "metadata": {},
   "outputs": [],
   "source": [
    "np.unique(img)"
   ]
  },
  {
   "cell_type": "code",
   "execution_count": null,
   "metadata": {},
   "outputs": [],
   "source": [
    "plt.imshow(filtered/np.max(filtered), cmap=\"gray\")"
   ]
  },
  {
   "cell_type": "code",
   "execution_count": null,
   "metadata": {},
   "outputs": [],
   "source": []
  }
 ],
 "metadata": {
  "kernelspec": {
   "display_name": "Python 3",
   "language": "python",
   "name": "python3"
  },
  "language_info": {
   "codemirror_mode": {
    "name": "ipython",
    "version": 3
   },
   "file_extension": ".py",
   "mimetype": "text/x-python",
   "name": "python",
   "nbconvert_exporter": "python",
   "pygments_lexer": "ipython3",
   "version": "3.8.5"
  }
 },
 "nbformat": 4,
 "nbformat_minor": 4
}
