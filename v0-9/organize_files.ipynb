{
 "cells": [
  {
   "cell_type": "code",
   "execution_count": null,
   "metadata": {},
   "outputs": [],
   "source": [
    "# Dependencies\n",
    "import shutil\n",
    "import glob"
   ]
  },
  {
   "cell_type": "code",
   "execution_count": null,
   "metadata": {},
   "outputs": [],
   "source": [
    "# Find the filenames\n",
    "\n",
    "exp_name = \"EQ59_01072021_12am\"\n",
    "acq_name = \"Interval12-36h\"\n",
    "folder = f\"D:/Tolga/Colony Images/{exp_name}/\"\n",
    "mylist = [f for f in glob.glob(f\"{folder}{exp_name}_{acq_name}*\")]"
   ]
  },
  {
   "cell_type": "code",
   "execution_count": null,
   "metadata": {},
   "outputs": [],
   "source": [
    "# Move the files to the corresponding folder\n",
    "for fix in range(len(mylist)):\n",
    "    f = mylist[fix]\n",
    "    shutil.move(f, f\"{folder}{acq_name}/\")\n",
    "    if fix%1000 == 0:\n",
    "        print(\"At file_idx = %d/%d\" % (fix, len(mylist)), flush=True, end=\"\\r\")"
   ]
  },
  {
   "cell_type": "code",
   "execution_count": null,
   "metadata": {},
   "outputs": [],
   "source": [
    "mylist[0]"
   ]
  },
  {
   "cell_type": "code",
   "execution_count": null,
   "metadata": {},
   "outputs": [],
   "source": [
    "import pandas as pd\n",
    "fpath = \"C:/Users/Tolga/Downloads/Crimes_2012-2016.csv\"\n",
    "crimes_data_df = pd.read_csv(fpath)"
   ]
  },
  {
   "cell_type": "code",
   "execution_count": null,
   "metadata": {},
   "outputs": [],
   "source": [
    "crimes_data_df = pd.read_csv(fpath)"
   ]
  },
  {
   "cell_type": "code",
   "execution_count": null,
   "metadata": {},
   "outputs": [],
   "source": []
  }
 ],
 "metadata": {
  "kernelspec": {
   "display_name": "Python 3",
   "language": "python",
   "name": "python3"
  },
  "language_info": {
   "codemirror_mode": {
    "name": "ipython",
    "version": 3
   },
   "file_extension": ".py",
   "mimetype": "text/x-python",
   "name": "python",
   "nbconvert_exporter": "python",
   "pygments_lexer": "ipython3",
   "version": "3.8.5"
  }
 },
 "nbformat": 4,
 "nbformat_minor": 4
}
