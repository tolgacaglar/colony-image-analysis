{
 "cells": [
  {
   "cell_type": "markdown",
   "metadata": {},
   "source": [
    "# Merging a tile-scanned image in confocal onto a larger tif file"
   ]
  },
  {
   "cell_type": "code",
   "execution_count": 1,
   "metadata": {},
   "outputs": [],
   "source": [
    "# Dependencies\n",
    "import xml.etree.ElementTree as ET\n",
    "import numpy as np\n",
    "import glob\n",
    "import cv2\n",
    "\n",
    "from matplotlib import pyplot as plt"
   ]
  },
  {
   "cell_type": "code",
   "execution_count": 2,
   "metadata": {},
   "outputs": [],
   "source": [
    "## Define a filename constructor for various identifiers\n",
    "\n",
    "def getFileName(fname, zix, zstr, tix, tstr, six, sstr):\n",
    "    fsplit_lst = fname.split(\"_\")   # split filename by '_'\n",
    "    # Rename the timepoint, z-scan and stagepos identifiers\n",
    "    if zix is not None:\n",
    "        fsplit_lst[zix] = zstr\n",
    "    if tix is not None:\n",
    "        fsplit_lst[tix] = tstr\n",
    "    if six is not None:\n",
    "        fsplit_lst[six] = sstr\n",
    "\n",
    "    # Construct the full file name\n",
    "    fname_ret = fsplit_lst[0]\n",
    "    for fsplit in fsplit_lst[1:]:\n",
    "        fname_ret += \"_\" + fsplit\n",
    "    \n",
    "    return fname_ret"
   ]
  },
  {
   "cell_type": "markdown",
   "metadata": {},
   "source": [
    "## Read image properties from XML file"
   ]
  },
  {
   "cell_type": "code",
   "execution_count": 19,
   "metadata": {},
   "outputs": [],
   "source": [
    "# Folder for the files\n",
    "exp_name = \"EQ59_01072021_12am\"\n",
    "acq_name = \"Interval12-36h_10pm\"\n",
    "\n",
    "base_folder = f\"D:/Tolga/Colony Images/{exp_name}/{acq_name}/\"\n",
    "\n",
    "# Replace the metadata_path with\n",
    "metadata_path = base_folder + f\"MetaData/{exp_name}_{acq_name}_Properties.xml\"\n",
    "\n",
    "tree = ET.parse(metadata_path)    # xml tree of the current stage position\n",
    "root = tree.getroot()           # root of the xml tree\n",
    "\n",
    "image = root[0]"
   ]
  },
  {
   "cell_type": "code",
   "execution_count": 20,
   "metadata": {},
   "outputs": [
    {
     "name": "stdout",
     "output_type": "stream",
     "text": [
      "tilescan is set\n"
     ]
    }
   ],
   "source": [
    "# TileScan images are saved in parameter s**.\n",
    "# Get the tilescan info\n",
    "tilescan_info = None\n",
    "for child in image:\n",
    "    if child.get(\"Name\") == \"TileScanInfo\":\n",
    "        print(\"tilescan is set\")\n",
    "        tilescan_info = child\n",
    "        break"
   ]
  },
  {
   "cell_type": "code",
   "execution_count": 21,
   "metadata": {},
   "outputs": [],
   "source": [
    "snum = len(tilescan_info)\n",
    "xix_lst, yix_lst = [],[]     # x,y indices for each tile\n",
    "xpos_lst, ypos_lst = [],[]    # x,y positions for each tile\n",
    "# Run through each tile to take position information\n",
    "for tile in tilescan_info:\n",
    "    xix_lst.append(int(tile.get(\"FieldX\")))\n",
    "    yix_lst.append(int(tile.get(\"FieldY\")))\n",
    "    xpos_lst.append(np.double(tile.get(\"PosX\")))\n",
    "    ypos_lst.append(np.double(tile.get(\"PosY\")))\n",
    "\n",
    "# unique x,y indices for each tile\n",
    "xix_unique_ar = np.unique(xix_lst)\n",
    "yix_unique_ar = np.unique(yix_lst)"
   ]
  },
  {
   "cell_type": "code",
   "execution_count": 22,
   "metadata": {},
   "outputs": [
    {
     "data": {
      "text/plain": [
       "array([0, 1, 2, 3, 4, 5, 6])"
      ]
     },
     "execution_count": 22,
     "metadata": {},
     "output_type": "execute_result"
    }
   ],
   "source": [
    "xix_unique_ar"
   ]
  },
  {
   "cell_type": "code",
   "execution_count": 23,
   "metadata": {},
   "outputs": [],
   "source": [
    "# Collect the image information for each\n",
    "image_description = None\n",
    "img_name = \"\"\n",
    "xsz = ysz = zsz = ssz = tsz = -1\n",
    "xvoxel = yvoxel = zvoxel = -1\n",
    "for child in image:\n",
    "    if child.tag == \"ImageDescription\":\n",
    "        image_description = child\n",
    "        for gchild in image_description:\n",
    "            if gchild.tag == \"Name\":    # Name of the image\n",
    "                img_name = gchild.text\n",
    "            elif gchild.tag == \"Dimensions\":     # x,y,z,stage,t dimensions\n",
    "                # Run through each deminson description\n",
    "                for ggchild in gchild:\n",
    "                    if ggchild.tag == \"DimensionDescription\":   # Check for tag\n",
    "                        if ggchild.get(\"DimID\") == \"X\":\n",
    "                            xsz = int(ggchild.get(\"NumberOfElements\"))\n",
    "                            xvoxel = np.double(ggchild.get(\"Voxel\"))\n",
    "                        elif ggchild.get(\"DimID\") == \"Y\":\n",
    "                            ysz = int(ggchild.get(\"NumberOfElements\"))\n",
    "                            yvoxel = np.double(ggchild.get(\"Voxel\"))\n",
    "                        elif ggchild.get(\"DimID\") == \"Z\":\n",
    "                            zsz = int(ggchild.get(\"NumberOfElements\"))\n",
    "                            zvoxel = np.double(ggchild.get(\"Voxel\"))\n",
    "                        elif ggchild.get(\"DimID\") == \"Stage\":\n",
    "                            ssz = int(ggchild.get(\"NumberOfElements\"))\n",
    "                            svoxel = np.double(ggchild.get(\"Voxel\"))\n",
    "                        elif ggchild.get(\"DimID\") == \"T\":\n",
    "                            tsz = int(ggchild.get(\"NumberOfElements\"))\n",
    "                            # Note: tvoxel is not used!!\n",
    "                            # Each image has its own timestamp data"
   ]
  },
  {
   "cell_type": "code",
   "execution_count": 25,
   "metadata": {
    "scrolled": true
   },
   "outputs": [
    {
     "name": "stdout",
     "output_type": "stream",
     "text": [
      "Did you check the tstr_ix, sstr_ix and zstr_ix??\n"
     ]
    },
    {
     "data": {
      "text/plain": [
       "['D:/Tolga/Colony Images/EQ59',\n",
       " '01072021',\n",
       " '12am/Interval12-36h',\n",
       " '10pm/TileScan\\\\EQ59',\n",
       " '01072021',\n",
       " '12am',\n",
       " 'Interval12-36h',\n",
       " '10pm',\n",
       " 't00',\n",
       " 's00',\n",
       " 'z000',\n",
       " 'ch00.tif']"
      ]
     },
     "metadata": {},
     "output_type": "display_data"
    },
    {
     "data": {
      "text/plain": [
       "'z000'"
      ]
     },
     "metadata": {},
     "output_type": "display_data"
    }
   ],
   "source": [
    "# Copy all .tif file into a list\n",
    "fname_list = glob.glob(base_folder+\"TileScan/*.tif\")\n",
    "# For each file, collect string identifierse for t,s and z\n",
    "tstr_st, sstr_st, zstr_st = set(),set(),set()\n",
    "tstr_ix = 8     # timepoint identifier index\n",
    "sstr_ix = 9     # stagepos identifier index\n",
    "zstr_ix = 10    # z-scan identifier index\n",
    "\n",
    "print(\"Did you check the tstr_ix, sstr_ix and zstr_ix??\")\n",
    "display(fname_list[0].split(\"_\"))\n",
    "display(fname_list[0].split(\"_\")[zstr_ix])"
   ]
  },
  {
   "cell_type": "code",
   "execution_count": 26,
   "metadata": {},
   "outputs": [],
   "source": [
    "for fname in fname_list:\n",
    "    fname_splt = fname.split(\"_\")\n",
    "    if tstr_ix is not None:\n",
    "        tstr_st.add(fname_splt[tstr_ix])\n",
    "    if sstr_ix is not None:\n",
    "        sstr_st.add(fname_splt[sstr_ix])\n",
    "    if zstr_ix is not None:\n",
    "        zstr_st.add(fname_splt[zstr_ix])\n",
    "    \n",
    "# Sort the string identifiers and save as an array\n",
    "tstr_ar = np.sort(list(tstr_st))\n",
    "sstr_ar = np.sort(list(sstr_st))\n",
    "zstr_ar = np.sort(list(zstr_st))"
   ]
  },
  {
   "cell_type": "code",
   "execution_count": 27,
   "metadata": {},
   "outputs": [
    {
     "name": "stdout",
     "output_type": "stream",
     "text": [
      "Image merged for zstr = z234 (234/235), tstr = t23 (23/24)\r"
     ]
    }
   ],
   "source": [
    "# Let's test merging a single timepoint for each z sections\n",
    "# tstr = fname_list[-1].split(\"_\")[tstr_ix]   # Last timepoint\n",
    "# tstr = [\"t12\"]\n",
    "# zstr_ar = [\"z030\"]\n",
    "\n",
    "\n",
    "# Run through all the tstr and zstr\n",
    "fname_test = fname_list[0]\n",
    "img_test = cv2.imread(fname_test, cv2.IMREAD_GRAYSCALE)\n",
    "height, width = img_test.shape\n",
    "\n",
    "# For each timepoint\n",
    "for tix in range(len(tstr_ar)):\n",
    "    tstr = tstr_ar[tix]\n",
    "    # For each z section\n",
    "    for zix in range(len(zstr_ar)):\n",
    "        zstr = zstr_ar[zix]\n",
    "        # File path to merge into\n",
    "        if tstr is not None:\n",
    "            fpath_merged = base_folder + \"Merged/\" + img_name + \"_\" + tstr + \"_\" + zstr + \".tif\"\n",
    "        else:\n",
    "            fpath_merged = base_folder + \"Merged/\" + img_name + \"_\" + zstr + \".tif\"\n",
    "\n",
    "        # Create empty merged image\n",
    "        img_merged_bw = np.zeros((height*len(yix_unique_ar), width*len(xix_unique_ar)), dtype=img_test.dtype)\n",
    "\n",
    "        for six in range(len(sstr_ar)):    # Run over the stage positions -> single merged tif file\n",
    "            sstr = sstr_ar[six]\n",
    "            #Construct the filepath to merge\n",
    "            fpath = getFileName(fname_list[0], zstr_ix, zstr, tstr_ix, tstr, sstr_ix, sstr)\n",
    "\n",
    "            img = cv2.imread(fpath, cv2.IMREAD_GRAYSCALE)\n",
    "            height,width = img.shape\n",
    "\n",
    "            # x,y indices\n",
    "            xix = xix_lst[six]\n",
    "            yix = yix_lst[six]\n",
    "            # Image pixel positions\n",
    "            xixar = np.arange(0,width) + width*xix\n",
    "            yixar = np.arange(0,height) + height*yix\n",
    "\n",
    "            img_merged_bw[(yix*height):((yix+1)*height), (xix*width):((xix+1)*width)] = np.transpose(np.flipud(img))\n",
    "\n",
    "        print(\"Image merged for zstr = %s (%d/%d), tstr = %s (%d/%d)\" % (zstr, zix, len(zstr_ar), \n",
    "                                                                         tstr, tix, len(tstr_ar)), \n",
    "              end=\"\\r\", flush=True)\n",
    "\n",
    "        # Write the merged image\n",
    "        cv2.imwrite(fpath_merged, img_merged_bw)\n",
    "    \n",
    "# img_blur = cv2.GaussianBlur(img_merged_bw, (11,11),0)\n",
    "\n",
    "# # Add contrast for better visualization.\n",
    "# alpha = 20\n",
    "# beta = -10\n",
    "# img_contrast = np.uint8(np.clip(alpha*img_merged_bw + beta, 0, 255))\n",
    "# # Resize for video output\n",
    "# img_resized = cv2.resize(img_contrast, (512,512))\n",
    "\n",
    "# plt.imshow(img_resized)"
   ]
  },
  {
   "cell_type": "code",
   "execution_count": null,
   "metadata": {},
   "outputs": [],
   "source": [
    "plt.imshow(img_resized)"
   ]
  },
  {
   "cell_type": "code",
   "execution_count": null,
   "metadata": {},
   "outputs": [],
   "source": [
    "fname_list[-1].split(\"_\")[tstr_ix]"
   ]
  },
  {
   "cell_type": "code",
   "execution_count": null,
   "metadata": {},
   "outputs": [],
   "source": [
    "img_name"
   ]
  },
  {
   "cell_type": "code",
   "execution_count": null,
   "metadata": {},
   "outputs": [],
   "source": [
    "fname_test"
   ]
  },
  {
   "cell_type": "code",
   "execution_count": null,
   "metadata": {},
   "outputs": [],
   "source": [
    "img.max()"
   ]
  },
  {
   "cell_type": "code",
   "execution_count": null,
   "metadata": {},
   "outputs": [],
   "source": []
  }
 ],
 "metadata": {
  "kernelspec": {
   "display_name": "Python 3",
   "language": "python",
   "name": "python3"
  },
  "language_info": {
   "codemirror_mode": {
    "name": "ipython",
    "version": 3
   },
   "file_extension": ".py",
   "mimetype": "text/x-python",
   "name": "python",
   "nbconvert_exporter": "python",
   "pygments_lexer": "ipython3",
   "version": "3.8.5"
  }
 },
 "nbformat": 4,
 "nbformat_minor": 4
}
